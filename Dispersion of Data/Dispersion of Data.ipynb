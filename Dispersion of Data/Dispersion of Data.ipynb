{
  "nbformat": 4,
  "nbformat_minor": 0,
  "metadata": {
    "colab": {
      "provenance": []
    },
    "kernelspec": {
      "name": "python3",
      "display_name": "Python 3"
    },
    "language_info": {
      "name": "python"
    }
  },
  "cells": [
    {
      "cell_type": "code",
      "execution_count": 20,
      "metadata": {
        "id": "a6T1ts2JHOGg"
      },
      "outputs": [],
      "source": [
        "# import statistics Library\n",
        "import statistics\n",
        "# import seaborn\n",
        "import seaborn as sns\n",
        "import numpy as np"
      ]
    },
    {
      "cell_type": "code",
      "source": [
        "# Generate a random dataset of 100 data points\n",
        "np.random.seed(42)  # For reproducibility\n",
        "data = np.random.randint(1, 100, 100)"
      ],
      "metadata": {
        "id": "bsDL0BzTHO8k"
      },
      "execution_count": 21,
      "outputs": []
    },
    {
      "cell_type": "code",
      "source": [
        "sns.kdeplot(data , fill=True)"
      ],
      "metadata": {
        "colab": {
          "base_uri": "https://localhost:8080/",
          "height": 447
        },
        "id": "kzBh8CKBHvs8",
        "outputId": "df5ffc23-bbfc-4c7e-d7f9-37cbaccf55fb"
      },
      "execution_count": 22,
      "outputs": [
        {
          "output_type": "execute_result",
          "data": {
            "text/plain": [
              "<Axes: ylabel='Density'>"
            ]
          },
          "metadata": {},
          "execution_count": 22
        },
        {
          "output_type": "display_data",
          "data": {
            "text/plain": [
              "<Figure size 640x480 with 1 Axes>"
            ],
            "image/png": "[encoded data removed]"
          },
          "metadata": {}
        }
      ]
    },
    {
      "cell_type": "code",
      "source": [
        "# Range\n",
        "data_range = np.ptp(data)\n",
        "print(\"Range:\")\n",
        "print(\"Data:\", data)\n",
        "print(\"Range (Max - Min):\", data_range)"
      ],
      "metadata": {
        "colab": {
          "base_uri": "https://localhost:8080/"
        },
        "id": "e4zEjpTPc72-",
        "outputId": "cfb4e88f-52ad-4916-a2d1-89e5f867517a"
      },
      "execution_count": 23,
      "outputs": [
        {
          "output_type": "stream",
          "name": "stdout",
          "text": [
            "Range:\n",
            "Data: [52 93 15 72 61 21 83 87 75 75 88 24  3 22 53  2 88 30 38  2 64 60 21 33\n",
            " 76 58 22 89 49 91 59 42 92 60 80 15 62 62 47 62 51 55 64  3 51  7 21 73\n",
            " 39 18  4 89 60 14  9 90 53  2 84 92 60 71 44  8 47 35 78 81 36 50  4  2\n",
            "  6 54  4 54 93 63 18 90 44 34 74 62 14 95 48 15 72 78 87 62 40 85 80 82\n",
            " 53 24 26 89]\n",
            "Range (Max - Min): 93\n"
          ]
        }
      ]
    },
    {
      "cell_type": "code",
      "source": [
        "# Interquartile Range (IQR)\n",
        "q1 = np.percentile(data, 25)\n",
        "q3 = np.percentile(data, 75)\n",
        "iqr = q3 - q1\n",
        "print(\"\\nInterquartile Range (IQR):\")\n",
        "print(\"Data:\", data)\n",
        "print(\"Q1 (25th percentile):\", q1)\n",
        "print(\"Q3 (75th percentile):\", q3)\n",
        "print(\"IQR (Q3 - Q1):\", iqr)"
      ],
      "metadata": {
        "colab": {
          "base_uri": "https://localhost:8080/"
        },
        "id": "XwBimutKdAOe",
        "outputId": "ccfd14fa-c3ba-4842-f3b7-5b0e7640bd37"
      },
      "execution_count": 25,
      "outputs": [
        {
          "output_type": "stream",
          "name": "stdout",
          "text": [
            "\n",
            "Interquartile Range (IQR):\n",
            "Data: [52 93 15 72 61 21 83 87 75 75 88 24  3 22 53  2 88 30 38  2 64 60 21 33\n",
            " 76 58 22 89 49 91 59 42 92 60 80 15 62 62 47 62 51 55 64  3 51  7 21 73\n",
            " 39 18  4 89 60 14  9 90 53  2 84 92 60 71 44  8 47 35 78 81 36 50  4  2\n",
            "  6 54  4 54 93 63 18 90 44 34 74 62 14 95 48 15 72 78 87 62 40 85 80 82\n",
            " 53 24 26 89]\n",
            "Q1 (25th percentile): 23.5\n",
            "Q3 (75th percentile): 75.25\n",
            "IQR (Q3 - Q1): 51.75\n"
          ]
        }
      ]
    },
    {
      "cell_type": "code",
      "source": [
        "# Variance\n",
        "variance = np.var(data)\n",
        "print(\"\\nVariance:\")\n",
        "print(\"Data:\", data)\n",
        "print(\"Variance:\", variance)"
      ],
      "metadata": {
        "colab": {
          "base_uri": "https://localhost:8080/"
        },
        "id": "_o1zK1dFdC8J",
        "outputId": "df452611-75c5-42d9-8a9e-0b0f41870c58"
      },
      "execution_count": 26,
      "outputs": [
        {
          "output_type": "stream",
          "name": "stdout",
          "text": [
            "\n",
            "Variance:\n",
            "Data: [52 93 15 72 61 21 83 87 75 75 88 24  3 22 53  2 88 30 38  2 64 60 21 33\n",
            " 76 58 22 89 49 91 59 42 92 60 80 15 62 62 47 62 51 55 64  3 51  7 21 73\n",
            " 39 18  4 89 60 14  9 90 53  2 84 92 60 71 44  8 47 35 78 81 36 50  4  2\n",
            "  6 54  4 54 93 63 18 90 44 34 74 62 14 95 48 15 72 78 87 62 40 85 80 82\n",
            " 53 24 26 89]\n",
            "Variance: 830.0939000000002\n"
          ]
        }
      ]
    },
    {
      "cell_type": "code",
      "source": [
        "# Standard Deviation\n",
        "std_deviation = np.std(data)\n",
        "print(\"\\nStandard Deviation:\")\n",
        "print(\"Data:\", data)\n",
        "print(\"Standard Deviation:\", std_deviation)"
      ],
      "metadata": {
        "colab": {
          "base_uri": "https://localhost:8080/"
        },
        "id": "JCjASJ-VdDAg",
        "outputId": "7690488d-9e65-4736-95f2-06c5db3ed181"
      },
      "execution_count": 27,
      "outputs": [
        {
          "output_type": "stream",
          "name": "stdout",
          "text": [
            "\n",
            "Standard Deviation:\n",
            "Data: [52 93 15 72 61 21 83 87 75 75 88 24  3 22 53  2 88 30 38  2 64 60 21 33\n",
            " 76 58 22 89 49 91 59 42 92 60 80 15 62 62 47 62 51 55 64  3 51  7 21 73\n",
            " 39 18  4 89 60 14  9 90 53  2 84 92 60 71 44  8 47 35 78 81 36 50  4  2\n",
            "  6 54  4 54 93 63 18 90 44 34 74 62 14 95 48 15 72 78 87 62 40 85 80 82\n",
            " 53 24 26 89]\n",
            "Standard Deviation: 28.811350193977376\n"
          ]
        }
      ]
    },
    {
      "cell_type": "code",
      "source": [
        "# Mean Absolute Deviation (MAD)\n",
        "mean = np.mean(data)\n",
        "mad = np.mean(np.abs(data - mean))\n",
        "print(\"\\nMean Absolute Deviation (MAD):\")\n",
        "print(\"Data:\", data)\n",
        "print(\"Mean:\", mean)\n",
        "print(\"MAD:\", mad)"
      ],
      "metadata": {
        "colab": {
          "base_uri": "https://localhost:8080/"
        },
        "id": "Jur4jDdMdGDt",
        "outputId": "e9c545fc-82e3-43fc-ecd1-bfaf17652ef1"
      },
      "execution_count": 28,
      "outputs": [
        {
          "output_type": "stream",
          "name": "stdout",
          "text": [
            "\n",
            "Mean Absolute Deviation (MAD):\n",
            "Data: [52 93 15 72 61 21 83 87 75 75 88 24  3 22 53  2 88 30 38  2 64 60 21 33\n",
            " 76 58 22 89 49 91 59 42 92 60 80 15 62 62 47 62 51 55 64  3 51  7 21 73\n",
            " 39 18  4 89 60 14  9 90 53  2 84 92 60 71 44  8 47 35 78 81 36 50  4  2\n",
            "  6 54  4 54 93 63 18 90 44 34 74 62 14 95 48 15 72 78 87 62 40 85 80 82\n",
            " 53 24 26 89]\n",
            "Mean: 50.69\n",
            "MAD: 24.567200000000003\n"
          ]
        }
      ]
    }
  ]
}