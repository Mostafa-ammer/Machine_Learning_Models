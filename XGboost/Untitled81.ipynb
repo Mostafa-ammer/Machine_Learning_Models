{
  "nbformat": 4,
  "nbformat_minor": 0,
  "metadata": {
    "colab": {
      "provenance": []
    },
    "kernelspec": {
      "name": "python3",
      "display_name": "Python 3"
    },
    "language_info": {
      "name": "python"
    }
  },
  "cells": [
    {
      "cell_type": "code",
      "source": [
        "!pip install fuzzywuzzy\n",
        "!pip install python-Levenshtein"
      ],
      "metadata": {
        "colab": {
          "base_uri": "https://localhost:8080/"
        },
        "id": "Tk7bCs-aIWqv",
        "outputId": "4e91ed4a-c41b-4378-cd21-121b78284681"
      },
      "execution_count": 2,
      "outputs": [
        {
          "output_type": "stream",
          "name": "stdout",
          "text": [
            "Requirement already satisfied: fuzzywuzzy in /usr/local/lib/python3.10/dist-packages (0.18.0)\n",
            "Requirement already satisfied: python-Levenshtein in /usr/local/lib/python3.10/dist-packages (0.23.0)\n",
            "Requirement already satisfied: Levenshtein==0.23.0 in /usr/local/lib/python3.10/dist-packages (from python-Levenshtein) (0.23.0)\n",
            "Requirement already satisfied: rapidfuzz<4.0.0,>=3.1.0 in /usr/local/lib/python3.10/dist-packages (from Levenshtein==0.23.0->python-Levenshtein) (3.6.1)\n"
          ]
        }
      ]
    },
    {
      "cell_type": "code",
      "source": [
        "from fuzzywuzzy import fuzz\n",
        "\n",
        "# Example list of user names (each name has three parts)\n",
        "user_names = [\n",
        "    \"Ahmed Mohamed Ali\",\n",
        "    \"Fatima Ahmed Khalid\",\n",
        "    \"Mohammed Omar Ibrahim\",\n",
        "    \"Sara Hassan Mahmoud\",\n",
        "    \"Ali Ahmed Hassan\",\n",
        "    \"Omar Saeed Khalid\",\n",
        "    \"Hassan Mohammed Ahmed\",\n",
        "]\n",
        "\n",
        "# Function to perform a fuzzy search for names with three parts\n",
        "def fuzzy_search(query, names):\n",
        "    max_similarity = 0\n",
        "    most_similar_name = None\n",
        "\n",
        "    for name in names:\n",
        "        similarity = fuzz.token_set_ratio(query, name)\n",
        "        if similarity > max_similarity:\n",
        "            max_similarity = similarity\n",
        "            most_similar_name = name\n",
        "\n",
        "    return most_similar_name, max_similarity\n",
        "\n",
        "# Example search query\n",
        "search_query = \"Ahmad Ali\"\n",
        "\n",
        "# Search for the most similar name\n",
        "most_similar_name, similarity = fuzzy_search(search_query, user_names)\n",
        "\n",
        "# Print the result\n",
        "if most_similar_name:\n",
        "    print(f\"Most similar name to '{search_query}':\")\n",
        "    print(f\"{most_similar_name} (Similarity: {similarity}%)\")\n",
        "else:\n",
        "    print(f\"No similar names found for '{search_query}'.\")\n"
      ],
      "metadata": {
        "colab": {
          "base_uri": "https://localhost:8080/"
        },
        "id": "MGWDxhP4Ik7c",
        "outputId": "784dd9be-c1d7-42b8-f7fa-c8f72aeda151"
      },
      "execution_count": 3,
      "outputs": [
        {
          "output_type": "stream",
          "name": "stdout",
          "text": [
            "Most similar name to 'Ahmad Ali':\n",
            "Ahmed Mohamed Ali (Similarity: 69%)\n"
          ]
        }
      ]
    },
    {
      "cell_type": "code",
      "source": [
        "from fuzzywuzzy import fuzz\n",
        "\n",
        "user_names = [          # Database connection\n",
        "    \"أحمد محمد علي\",\n",
        "    \"فاطمة أحمد خالد\",\n",
        "    \"محمد عمر إبراهيم\",\n",
        "    \"سارة حسن محمود\",\n",
        "    \"علي أحمد حسن\",\n",
        "    \"عمر سعيد خالد\",\n",
        "    \"حسن محمد أحمد\",\n",
        "]\n",
        "\n",
        "def fuzzy_search(query, names):\n",
        "    max_similarity = 0          # max_similar\n",
        "    most_similar_name = None    # similar_name\n",
        "\n",
        "    for name in names: # loop\n",
        "        similarity = fuzz.token_set_ratio(query, name) # similarity between query and name from database\n",
        "        if similarity > max_similarity:\n",
        "            max_similarity = similarity  # max\n",
        "            most_similar_name = name     # most_similar_name\n",
        "\n",
        "    return most_similar_name, max_similarity\n",
        "\n",
        "# Example search query (use Arabic characters)\n",
        "search_query = \"ساه\"\n",
        "\n",
        "# Search for the most similar name\n",
        "most_similar_name, similarity = fuzzy_search(search_query, user_names)\n",
        "\n",
        "# Print the result\n",
        "if most_similar_name:\n",
        "    print(f\"Most similar name to '{search_query}':\")\n",
        "    print(f\"{most_similar_name} (Similarity: {similarity}%)\")\n",
        "else:\n",
        "    print(f\"No similar names found for '{search_query}'.\")"
      ],
      "metadata": {
        "colab": {
          "base_uri": "https://localhost:8080/"
        },
        "id": "akJGzU4uJRi6",
        "outputId": "61d1cf9d-d341-4f25-9b76-da7aecf7f196"
      },
      "execution_count": 8,
      "outputs": [
        {
          "output_type": "stream",
          "name": "stdout",
          "text": [
            "Most similar name to 'ساه':\n",
            "سارة حسن محمود (Similarity: 24%)\n"
          ]
        }
      ]
    },
    {
      "cell_type": "code",
      "source": [
        "from fuzzywuzzy import process\n",
        "\n",
        "# Example list of Arabic user names (each name has three parts)\n",
        "user_names = [\n",
        "    \"أحمد محمد علي\",\n",
        "    \"فاطمة أحمد خالد\",\n",
        "    \"محمد عمر إبراهيم\",\n",
        "    \"سارة حسن محمود\",\n",
        "    \"علي أحمد حسن\",\n",
        "    \"عمر سعيد خالد\",\n",
        "    \"حسن محمد أحمد\",\n",
        "]\n",
        "\n",
        "# Function to perform a fuzzy search for names with three parts\n",
        "def fuzzy_search(query, names, threshold=80):\n",
        "    best_match, similarity = process.extractOne(query, names)\n",
        "\n",
        "    if similarity >= threshold:\n",
        "        return best_match, similarity\n",
        "    else:\n",
        "        return None, None\n",
        "\n",
        "# Example search query (use Arabic characters)\n",
        "search_query = \"ساه \"\n",
        "\n",
        "# Search for the most similar name\n",
        "most_similar_name, similarity = fuzzy_search(search_query, user_names)\n",
        "\n",
        "# Print the result\n",
        "if most_similar_name:\n",
        "    print(f\"Most similar name to '{search_query}':\")\n",
        "    print(f\"{most_similar_name} (Similarity: {similarity}%)\")\n",
        "else:\n",
        "    print(f\"No similar names found for '{search_query}'.\")"
      ],
      "metadata": {
        "colab": {
          "base_uri": "https://localhost:8080/"
        },
        "id": "u349JztRP-bA",
        "outputId": "9867f520-7dde-43d3-eee2-d39ea3029952"
      },
      "execution_count": 9,
      "outputs": [
        {
          "output_type": "stream",
          "name": "stdout",
          "text": [
            "No similar names found for ' ساه '.\n"
          ]
        }
      ]
    }
  ]
}