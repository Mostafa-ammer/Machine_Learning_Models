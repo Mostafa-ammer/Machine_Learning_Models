{
  "nbformat": 4,
  "nbformat_minor": 0,
  "metadata": {
    "colab": {
      "provenance": []
    },
    "kernelspec": {
      "name": "python3",
      "display_name": "Python 3"
    },
    "language_info": {
      "name": "python"
    }
  },
  "cells": [
    {
      "cell_type": "markdown",
      "source": [
        "**Import Required Libraries**"
      ],
      "metadata": {
        "id": "5rh4pDhZNeep"
      }
    },
    {
      "cell_type": "code",
      "source": [
        "import numpy as np\n",
        "import matplotlib.pyplot as plt\n",
        "import seaborn as sns  # Import seaborn\n",
        "from sklearn.datasets import make_regression"
      ],
      "metadata": {
        "id": "LrDuEa_Pyg6e"
      },
      "execution_count": null,
      "outputs": []
    },
    {
      "cell_type": "markdown",
      "source": [
        "**Generating of Data**"
      ],
      "metadata": {
        "id": "o9av9JgUx-zG"
      }
    },
    {
      "cell_type": "code",
      "execution_count": null,
      "metadata": {
        "id": "ob-WH9-Lr9x1"
      },
      "outputs": [],
      "source": [
        "# Generate a synthetic regression dataset with 100 samples and 1 feature\n",
        "X, y = make_regression(n_samples=200, n_features=1, n_informative=1, noise=6, bias=30, random_state=200)\n",
        "m=200"
      ]
    },
    {
      "cell_type": "code",
      "source": [
        "X[:20]"
      ],
      "metadata": {
        "colab": {
          "base_uri": "https://localhost:8080/"
        },
        "id": "tjRb0TTpsJjw",
        "outputId": "1bca982a-aa27-4965-d273-336c9a48a929"
      },
      "execution_count": null,
      "outputs": [
        {
          "output_type": "execute_result",
          "data": {
            "text/plain": [
              "array([[-0.05358755],\n",
              "       [ 0.81490518],\n",
              "       [ 1.15805552],\n",
              "       [-0.75361164],\n",
              "       [ 1.92273803],\n",
              "       [ 1.22923449],\n",
              "       [-0.25665373],\n",
              "       [-0.3916012 ],\n",
              "       [-0.13390765],\n",
              "       [ 1.31594368],\n",
              "       [ 0.75272929],\n",
              "       [-0.43224009],\n",
              "       [-0.66643198],\n",
              "       [ 0.82272281],\n",
              "       [-1.86451829],\n",
              "       [-1.52007408],\n",
              "       [ 0.62675835],\n",
              "       [ 1.84213516],\n",
              "       [-1.0844555 ],\n",
              "       [ 2.18609495]])"
            ]
          },
          "metadata": {},
          "execution_count": 3
        }
      ]
    },
    {
      "cell_type": "code",
      "source": [
        "X.shape"
      ],
      "metadata": {
        "colab": {
          "base_uri": "https://localhost:8080/"
        },
        "id": "gn2w14VkslMO",
        "outputId": "631a0456-decb-4e8e-ffa8-790d588aa343"
      },
      "execution_count": null,
      "outputs": [
        {
          "output_type": "execute_result",
          "data": {
            "text/plain": [
              "(200, 1)"
            ]
          },
          "metadata": {},
          "execution_count": 4
        }
      ]
    },
    {
      "cell_type": "code",
      "source": [
        "y"
      ],
      "metadata": {
        "colab": {
          "base_uri": "https://localhost:8080/"
        },
        "id": "T_GqEgaYsmJO",
        "outputId": "078b49e3-b33e-4753-9567-eb9d7c683554"
      },
      "execution_count": null,
      "outputs": [
        {
          "output_type": "execute_result",
          "data": {
            "text/plain": [
              "array([36.88325346, 41.4284682 , 41.95441238, 23.95182201, 52.67785917,\n",
              "       34.62596852, 22.28124594, 40.44804886, 22.60461363, 49.88591486,\n",
              "       26.4956713 , 20.57517039, 15.2754705 , 24.04842313, 17.7911797 ,\n",
              "       25.10924042, 30.00687843, 36.29797318, 10.72471891, 50.24957873,\n",
              "       34.82059046, 33.73658725, 31.39478645, 44.42262545, 35.7006979 ,\n",
              "       29.9457969 , 31.47380446, 31.15710431, 31.14713261, 33.36514844,\n",
              "       22.85491133, 21.27554839, 29.13340211, 26.73169999, 33.63280404,\n",
              "       33.59582351, 27.16318389, 29.02274523, 45.93127317, 37.18672727,\n",
              "       42.70643559, 15.87362965, 35.94069058, 42.06646884, 26.67989019,\n",
              "       25.28033888,  9.02171149, 33.38033323, 23.00553969, 26.98323892,\n",
              "       25.99554331, 36.72316923, 35.62425966, 28.66425855, 12.19148457,\n",
              "       30.63465681, 35.04100296, 35.64187416, 30.63531011, 36.79405459,\n",
              "       27.949774  , 25.79841788, 25.49408577, 21.57281939, 25.18529652,\n",
              "       33.92752488, 31.77907235, 19.70219235, 20.99454518, 23.1733545 ,\n",
              "       23.20928728, 47.37613148, 21.16837085, 35.33099261, 22.62810476,\n",
              "       59.85669215, 50.53302055, 33.27359479, 37.815114  , 30.09261689,\n",
              "       15.15194149, 19.60513786, 21.96032834, 12.07706077, 37.09536882,\n",
              "       18.3645578 , 25.81598846, 27.54947512, 20.1404085 , 43.34489713,\n",
              "       35.44759399, 33.61042103, 30.47713032, 35.72145954, 24.64183732,\n",
              "       21.07621749, 26.5873547 , 53.52776277, 29.92584431, 38.9835727 ,\n",
              "       28.22727076, 42.14404899, 34.39451518, 29.54261557, 33.74310434,\n",
              "       31.1930811 , 31.52519679, 64.39127186, 22.6776837 , 40.6908815 ,\n",
              "       33.60094922, 38.18560725, 25.56934158, 17.66015125, 26.19129715,\n",
              "       34.43478746, 19.2854916 , 16.76248446,  3.25488432, 21.19362484,\n",
              "       17.54254406, 28.88254037, 35.82641118, 17.08372702, 34.88871619,\n",
              "       28.23894054, 31.48296459, 41.33275484, 33.86343023, 34.90521053,\n",
              "       40.08148263, 42.05388254, 52.70892508, 32.53720392, 42.95661851,\n",
              "       36.42252704, 41.45702697, 26.23394   , 34.8236403 , 25.02728725,\n",
              "       31.16135153, 42.16149063, 42.50578396, 19.45670774, 50.5115823 ,\n",
              "       13.28013557, 19.14045815, 21.40729026, 17.16242435, 28.08510956,\n",
              "       20.00612226, 40.74436389, 39.94008621, 40.56709916, 28.90609813,\n",
              "       33.9409108 , 42.85839245, 25.41938526, 25.09995074, 25.31132818,\n",
              "       24.14079875, 20.69154473, 37.45191943, 51.18157867, 13.13120257,\n",
              "       27.89748575,  8.40392856, 42.28135585, 13.36061708, 26.76826743,\n",
              "       10.39956479, 41.72921956, 36.73870942, 33.0991534 , 58.21940824,\n",
              "       32.93174286, 23.6387795 , 32.17767991, 40.94566539, 36.32914659,\n",
              "       28.03518154, 36.81144895, 27.94583122, 48.00680793, 40.70025189,\n",
              "       32.28837975, 44.30270271, 25.25019798, 37.83670561, 34.03521318,\n",
              "       40.27915292, 35.24925471, 13.15534947, 24.70746865, 27.59031146,\n",
              "       21.15903633, 40.46490609, 30.05466587, 34.8820782 , 17.63786985])"
            ]
          },
          "metadata": {},
          "execution_count": 5
        }
      ]
    },
    {
      "cell_type": "code",
      "source": [
        "y.shape"
      ],
      "metadata": {
        "colab": {
          "base_uri": "https://localhost:8080/"
        },
        "id": "dxMHy41Ws1st",
        "outputId": "791248b8-da0f-4f07-a3b5-1432719c3981"
      },
      "execution_count": null,
      "outputs": [
        {
          "output_type": "execute_result",
          "data": {
            "text/plain": [
              "(200,)"
            ]
          },
          "metadata": {},
          "execution_count": 6
        }
      ]
    },
    {
      "cell_type": "markdown",
      "source": [
        "**Visualization of Data**"
      ],
      "metadata": {
        "id": "j3OVqyImyKOP"
      }
    },
    {
      "cell_type": "code",
      "source": [
        "# Set the seaborn style (e.g., \"whitegrid,\" \"darkgrid,\" \"ticks,\" etc.)\n",
        "sns.set_style(\"whitegrid\")\n",
        "\n",
        "# Assuming you have already generated X and y using make_regression\n",
        "# Generate the scatter plot\n",
        "plt.scatter(X, y, marker='o', s=25, color='blue', label='Data Points')\n",
        "\n",
        "# Add labels and a legend\n",
        "plt.xlabel('X (Feature)')\n",
        "plt.ylabel('y (Target)')\n",
        "plt.legend(loc='upper left')\n",
        "\n",
        "# Show the plot\n",
        "plt.show()\n"
      ],
      "metadata": {
        "colab": {
          "base_uri": "https://localhost:8080/",
          "height": 449
        },
        "id": "x-d9Cxrws45d",
        "outputId": "59833a9c-f3bc-48ab-b603-827eb482dc69"
      },
      "execution_count": null,
      "outputs": [
        {
          "output_type": "display_data",
          "data": {
            "text/plain": [
              "<Figure size 640x480 with 1 Axes>"
            ],
            "image/png": "[encoded data removed]"
          },
          "metadata": {}
        }
      ]
    },
    {
      "cell_type": "markdown",
      "source": [
        "**Building Linear Model**"
      ],
      "metadata": {
        "id": "eAE7OlYnyTcF"
      }
    },
    {
      "cell_type": "code",
      "source": [
        "import numpy as np\n",
        "def h(X,w):\n",
        "    return (w[1]*np.array(X[:,0])+w[0])"
      ],
      "metadata": {
        "id": "-K8gmP97tLqO"
      },
      "execution_count": null,
      "outputs": []
    },
    {
      "cell_type": "markdown",
      "source": [
        "**Cost Function**"
      ],
      "metadata": {
        "id": "gacp-akQ0a2-"
      }
    },
    {
      "cell_type": "code",
      "source": [
        "def cost(w,X,y):\n",
        "  return 10.5/m * np.sum(np.square(h(X,w)-np.array(y)))"
      ],
      "metadata": {
        "id": "Asj4Gr6iyb9N"
      },
      "execution_count": null,
      "outputs": []
    },
    {
      "cell_type": "markdown",
      "source": [
        "**Gradient Descent**"
      ],
      "metadata": {
        "id": "qZc_Ppgf0etG"
      }
    },
    {
      "cell_type": "markdown",
      "source": [
        "Calculate Partial Derivation"
      ],
      "metadata": {
        "id": "VgxfI1Ni088t"
      }
    },
    {
      "cell_type": "code",
      "source": [
        "def grad(w,X,y):\n",
        "    g = [0]*2\n",
        "    g[0] = (1/m) * np.sum(h(X,w)-np.array(y))\n",
        "    g[1] = (1/m) * np.sum((h(X,w)-np.array(y))*np.array(X[:,0]))\n",
        "    return g"
      ],
      "metadata": {
        "id": "LOaTOvxQzvgt"
      },
      "execution_count": null,
      "outputs": []
    },
    {
      "cell_type": "code",
      "source": [
        "def descent(w_new, w_prev, lr):\n",
        "    print(w_prev)\n",
        "    print(cost(w_prev,X,y))\n",
        "    j=0\n",
        "    while True:\n",
        "        w_prev = w_new\n",
        "        w0 = w_prev[0] - lr*grad(w_prev,X,y)[0]\n",
        "        w1 = w_prev[1] - lr*grad(w_prev,X,y)[1]\n",
        "        w_new = [w0, w1]\n",
        "        print(w_new)\n",
        "        print(cost(w_new,X,y))\n",
        "        if (w_new[0]-w_prev[0])**2 + (w_new[1]-w_prev[1])**2 <= pow(10,-6):\n",
        "            return w_new\n",
        "        if j>500:\n",
        "            return w_new\n",
        "        j+=1"
      ],
      "metadata": {
        "id": "_2UlOGGb1De9"
      },
      "execution_count": null,
      "outputs": []
    },
    {
      "cell_type": "markdown",
      "source": [
        "**Initialization**"
      ],
      "metadata": {
        "id": "MCCIkucR2a7-"
      }
    },
    {
      "cell_type": "code",
      "source": [
        "w = [0,-1]"
      ],
      "metadata": {
        "id": "pqX5tbPs2aFM"
      },
      "execution_count": null,
      "outputs": []
    },
    {
      "cell_type": "markdown",
      "source": [
        "**Training**"
      ],
      "metadata": {
        "id": "223kuDl82m73"
      }
    },
    {
      "cell_type": "code",
      "source": [
        "w = descent(w,w,.1)\n",
        "print(w)"
      ],
      "metadata": {
        "colab": {
          "base_uri": "https://localhost:8080/"
        },
        "id": "pPXLT5Xf2mTM",
        "outputId": "7dc7ba43-ec7d-44df-e9c6-b93515add74b"
      },
      "execution_count": null,
      "outputs": [
        {
          "output_type": "stream",
          "name": "stdout",
          "text": [
            "[0, -1]\n",
            "11351.257394071257\n",
            "[3.0956308633447547, 0.11442770988081663]\n",
            "9196.139260649974\n",
            "[5.873446610978822, 1.1023454281382854]\n",
            "7465.582005392776\n",
            "[8.366165526017987, 1.9778657783247602]\n",
            "6075.861748288489\n",
            "[10.603129563187093, 2.753547324958939]\n",
            "4959.779476566007\n",
            "[12.610653489037027, 3.440564026385428]\n",
            "4063.3970264032578\n",
            "[14.412337853388406, 4.048856351454087]\n",
            "3343.418194191413\n",
            "[16.0293495446536, 4.587266032213945]\n",
            "2765.087397804707\n",
            "[17.480673291820082, 5.063656213710697]\n",
            "2300.503550134772\n",
            "[18.7833371265594, 5.485018573380515]\n",
            "1927.267052807158\n",
            "[19.952614505935692, 5.857568814053481]\n",
            "1627.3940567439802\n",
            "[21.002205515744066, 6.186831784078626]\n",
            "1386.445161380989\n",
            "[21.944399323224108, 6.4777173436470505]\n",
            "1192.8261720884002\n",
            "[22.79021982273288, 6.734587976310905]\n",
            "1037.2269158925924\n",
            "[23.549556216205993, 6.961319037445921]\n",
            "912.1708381285621\n",
            "[24.23128008944935, 7.1613524356181975]\n",
            "811.6534953291408\n",
            "[24.843350383306017, 7.337744457271138]\n",
            "730.8523856620582\n",
            "[25.39290751357782, 7.493208368754656]\n",
            "665.8940286406872\n",
            "[25.88635776349851, 7.630152361500887]\n",
            "613.6669899535499\n",
            "[26.329448955986066, 7.750713345236864]\n",
            "571.6717808647952\n",
            "[26.727338308440384, 7.85678703973609]\n",
            "537.9003536407689\n",
            "[27.084653279240058, 7.950054767051352]\n",
            "510.73935220996543\n",
            "[27.405546131200424, 8.032007302818467]\n",
            "488.89243083178513\n",
            "[27.69374286207346, 8.10396610651881]\n",
            "471.3178791356148\n",
            "[27.952587084793493, 8.167102216040767]\n",
            "457.17853457782843\n",
            "[28.1850793797893, 8.222453061042739]\n",
            "445.8015593133433\n",
            "[28.393912587566714, 8.270937422096216]\n",
            "436.6461366996472\n",
            "[28.581503461264624, 8.313368738022628]\n",
            "429.2775264160246\n",
            "[28.75002105541824, 8.350466941915155]\n",
            "423.34622515784355\n",
            "[28.901412188203544, 8.382868986773879]\n",
            "418.5712270321503\n",
            "[29.03742427951789, 8.411138204226754]\n",
            "414.7265761520288\n",
            "[29.159625835953786, 8.435772624233959]\n",
            "411.6305631431857\n",
            "[29.2694248256702, 8.45721236977788]\n",
            "409.1370450713613\n",
            "[29.368085161021078, 8.475846228144906]\n",
            "407.1284708790478\n",
            "[29.45674148426251, 8.492017489347575]\n",
            "405.5102767637906\n",
            "[29.536412431457247, 8.506029132372674]\n",
            "404.2063820333544\n",
            "[29.60801253158606, 8.518148431144402]\n",
            "403.15556904117847\n",
            "[29.672362881642048, 8.528611044246796]\n",
            "402.3085734114311\n",
            "[29.73020072393229, 8.537624645454327]\n",
            "401.6257449710966\n",
            "[29.782188038766204, 8.545372145882025]\n",
            "401.07516727367397\n",
            "[29.828919254015993, 8.552014553005522]\n",
            "400.63114565489633\n",
            "[29.87092816255075, 8.557693506843796]\n",
            "400.2729914725439\n",
            "[29.90869412914744, 8.562533529178292]\n",
            "399.98404440646794\n",
            "[29.942647660055936, 8.566644017743355]\n",
            "399.7508861188368\n",
            "[29.97317540084111, 8.57012101381262]\n",
            "399.56270775023177\n",
            "[30.000624621352255, 8.573048768478005]\n",
            "399.4108010975249\n",
            "[30.025307240597662, 8.57550113013079]\n",
            "399.2881492400909\n",
            "[30.047503438857856, 8.577542773171217]\n",
            "399.1890971373348\n",
            "[30.067464899489234, 8.579230285760998]\n",
            "399.1090865419573\n",
            "[30.085417718492856, 8.580613132462974]\n",
            "399.04444264387746\n",
            "[30.101565015998244, 8.581734505857439]\n",
            "398.992202327041\n",
            "[30.11608928029284, 8.582632079662158]\n",
            "398.9499759041382\n",
            "[30.12915447187187, 8.583338674491873]\n",
            "398.9158357878001\n",
            "[30.14090791215345, 8.583882846154577]\n",
            "398.8882268376881\n",
            "[30.151481978966018, 8.584289405279359]\n",
            "398.865894152476\n",
            "[30.160995628639302, 8.58457987608947]\n",
            "398.84782490342724\n",
            "[30.169555762489143, 8.584772901261081]\n",
            "398.833201471725\n",
            "[30.177258453655917, 8.584884599031389]\n",
            "398.82136368680824\n",
            "[30.184190048614877, 8.584928878028586]\n",
            "398.8117783932454\n",
            "[30.190428156204195, 8.584917714681556]\n",
            "398.8040149197386\n",
            "[30.196042535696083, 8.584861397520429]\n",
            "398.79772530219884\n",
            "[30.201095894251807, 8.584768742193141]\n",
            "398.79262833673414\n",
            "[30.205644603039065, 8.58464728059093]\n",
            "398.78849671853453\n",
            "[30.20973934033721, 8.584503427091704]\n",
            "398.7851466675728\n",
            "[30.21342566910097, 8.58434262458882]\n",
            "398.7824295586805\n",
            "[30.216744555686475, 8.584169472669567]\n",
            "398.7802251674256\n",
            "[30.219732835755565, 8.58398784003826]\n",
            "398.77843621877514\n",
            "[30.22242363275721, 8.583800963039536]\n",
            "398.77698398635647\n",
            "[30.22484673383125, 8.583611531925033]\n",
            "398.7758047390998\n",
            "[30.227028927482966, 8.583421766317985]\n",
            "398.77484687148404\n",
            "[30.228994306931416, 8.583233481162887]\n",
            "398.7740685853678\n",
            "[30.23076454263459, 8.583048144298838]\n",
            "398.773436016971\n",
            "[30.23235912713573, 8.582866926663364]\n",
            "398.7729217231825\n",
            "[30.233795595053294, 8.582690746016727]\n",
            "398.77250345797637\n",
            "[30.235089720748128, 8.582520304973011]\n",
            "398.77216318310167\n",
            "[30.23625569594233, 8.582356124032495]\n",
            "398.7718862679984\n",
            "[30.237306289331627, 8.582198570228412]\n",
            "398.77166084258755\n",
            "[30.238252990024396, 8.582047881929046]\n",
            "398.77147727359375\n",
            "[30.238252990024396, 8.582047881929046]\n"
          ]
        }
      ]
    },
    {
      "cell_type": "markdown",
      "source": [
        "**Visualization Fitted Line**"
      ],
      "metadata": {
        "id": "7Pvk7xMTNKEJ"
      }
    },
    {
      "cell_type": "code",
      "source": [
        "def graph(formula, x_range):\n",
        "    x = np.array(x_range)\n",
        "    y = formula(x)\n",
        "    plt.plot(x, y)\n",
        "\n",
        "def my_formula(x):\n",
        "    return w[0]+w[1]*x\n",
        "\n",
        "plt.scatter(X,y, c = \"red\",alpha=.5, marker = 'o')\n",
        "graph(my_formula, range(-5,5))\n",
        "plt.xlabel('X')\n",
        "plt.ylabel('Y')\n",
        "plt.show()"
      ],
      "metadata": {
        "colab": {
          "base_uri": "https://localhost:8080/",
          "height": 449
        },
        "id": "KraeFjgw2tkc",
        "outputId": "d9ea7154-a5d6-4740-847c-ca4c37556785"
      },
      "execution_count": null,
      "outputs": [
        {
          "output_type": "display_data",
          "data": {
            "text/plain": [
              "<Figure size 640x480 with 1 Axes>"
            ],
            "image/png": "[encoded data removed]"
          },
          "metadata": {}
        }
      ]
    }
  ]
}