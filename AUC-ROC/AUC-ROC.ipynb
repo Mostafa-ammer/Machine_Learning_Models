{
  "nbformat": 4,
  "nbformat_minor": 0,
  "metadata": {
    "colab": {
      "provenance": []
    },
    "kernelspec": {
      "name": "python3",
      "display_name": "Python 3"
    },
    "language_info": {
      "name": "python"
    }
  },
  "cells": [
    {
      "cell_type": "markdown",
      "source": [
        "**Import the required Libraries**"
      ],
      "metadata": {
        "id": "a8Aq9escYj8E"
      }
    },
    {
      "cell_type": "code",
      "source": [
        "import pandas as pd\n",
        "from sklearn.datasets import make_classification\n",
        "from sklearn.model_selection import train_test_split\n",
        "from sklearn.linear_model import LogisticRegression\n",
        "from sklearn.neighbors import KNeighborsClassifier\n",
        "from sklearn.metrics import roc_curve"
      ],
      "metadata": {
        "id": "uPRkbXBJYuO8"
      },
      "execution_count": 17,
      "outputs": []
    },
    {
      "cell_type": "markdown",
      "source": [
        "**generate two class dataset**"
      ],
      "metadata": {
        "id": "Ka2T00IHY1xc"
      }
    },
    {
      "cell_type": "code",
      "source": [
        "# generate two class dataset\n",
        "X, y = make_classification(n_samples=1000, n_classes=2, n_features=20, random_state=27)"
      ],
      "metadata": {
        "id": "fNlK7q3mYw-c"
      },
      "execution_count": 2,
      "outputs": []
    },
    {
      "cell_type": "code",
      "source": [
        "X"
      ],
      "metadata": {
        "colab": {
          "base_uri": "https://localhost:8080/"
        },
        "id": "vteoweELY63V",
        "outputId": "438f7d9f-f2ac-4f0b-bf88-9d823011d724"
      },
      "execution_count": 4,
      "outputs": [
        {
          "output_type": "execute_result",
          "data": {
            "text/plain": [
              "array([[-0.25820289,  1.0198078 ,  1.52456317, ...,  0.33272104,\n",
              "        -0.17540696,  1.50112422],\n",
              "       [-0.45816647,  0.82872793, -0.65696499, ...,  1.2019375 ,\n",
              "        -0.25583476, -0.19931278],\n",
              "       [-0.3873777 ,  0.76181785, -1.31035138, ..., -1.0332091 ,\n",
              "        -1.68667137, -0.76683607],\n",
              "       ...,\n",
              "       [-0.54779315, -0.67453913, -0.83464431, ...,  0.57821623,\n",
              "        -1.17254773,  1.08301901],\n",
              "       [ 0.5596188 , -0.62502523,  1.40453753, ..., -1.66951495,\n",
              "        -0.29276041,  0.48456871],\n",
              "       [-1.42487559,  0.52714552,  0.15786417, ...,  3.25163637,\n",
              "        -0.54779104, -1.51033252]])"
            ]
          },
          "metadata": {},
          "execution_count": 4
        }
      ]
    },
    {
      "cell_type": "code",
      "source": [
        "y"
      ],
      "metadata": {
        "colab": {
          "base_uri": "https://localhost:8080/"
        },
        "id": "TEF7nv7JY7WU",
        "outputId": "6cb4b9f3-0e79-452a-ad7e-bf92646981c6"
      },
      "execution_count": 5,
      "outputs": [
        {
          "output_type": "execute_result",
          "data": {
            "text/plain": [
              "array([1, 1, 1, 0, 0, 1, 1, 0, 1, 0, 0, 0, 1, 1, 1, 1, 0, 1, 1, 1, 0, 0,\n",
              "       0, 1, 1, 0, 0, 0, 0, 0, 1, 0, 1, 0, 1, 1, 1, 0, 0, 0, 0, 0, 1, 1,\n",
              "       0, 0, 0, 0, 1, 0, 0, 0, 1, 0, 0, 0, 0, 1, 1, 1, 1, 0, 0, 1, 0, 1,\n",
              "       0, 0, 0, 0, 1, 1, 1, 1, 0, 1, 0, 1, 1, 1, 1, 1, 0, 1, 0, 1, 0, 1,\n",
              "       1, 1, 0, 1, 0, 1, 0, 0, 1, 1, 1, 0, 0, 0, 1, 0, 0, 1, 1, 0, 0, 0,\n",
              "       0, 1, 0, 0, 1, 0, 1, 1, 1, 0, 0, 1, 1, 1, 1, 0, 0, 0, 1, 0, 1, 1,\n",
              "       1, 0, 1, 1, 0, 0, 1, 0, 0, 0, 1, 0, 0, 0, 0, 0, 0, 1, 1, 1, 0, 0,\n",
              "       0, 0, 0, 0, 0, 1, 1, 1, 0, 1, 1, 1, 0, 1, 0, 0, 1, 0, 0, 1, 1, 0,\n",
              "       1, 0, 1, 0, 0, 1, 1, 1, 1, 0, 0, 1, 0, 1, 0, 1, 1, 1, 1, 1, 0, 1,\n",
              "       0, 0, 1, 0, 0, 0, 0, 0, 0, 1, 1, 0, 1, 1, 0, 1, 1, 0, 0, 0, 1, 0,\n",
              "       1, 0, 0, 0, 0, 0, 0, 0, 1, 0, 1, 0, 0, 0, 1, 0, 1, 0, 1, 1, 1, 0,\n",
              "       0, 0, 1, 0, 0, 1, 1, 0, 0, 1, 0, 0, 1, 1, 1, 0, 0, 0, 0, 1, 0, 1,\n",
              "       0, 1, 1, 1, 0, 1, 1, 0, 0, 0, 1, 1, 0, 1, 0, 1, 1, 1, 1, 1, 1, 1,\n",
              "       0, 0, 0, 0, 0, 1, 0, 0, 0, 1, 0, 1, 1, 1, 1, 0, 0, 0, 1, 1, 1, 0,\n",
              "       0, 1, 0, 0, 0, 0, 0, 0, 1, 1, 0, 0, 0, 0, 0, 1, 0, 1, 0, 1, 0, 0,\n",
              "       0, 1, 1, 0, 1, 0, 0, 0, 1, 0, 1, 1, 1, 0, 0, 0, 1, 0, 1, 0, 0, 0,\n",
              "       1, 1, 1, 1, 1, 0, 1, 0, 1, 0, 0, 0, 0, 0, 0, 1, 1, 1, 1, 1, 1, 0,\n",
              "       1, 0, 0, 0, 0, 1, 1, 1, 0, 1, 1, 1, 1, 1, 1, 1, 0, 1, 0, 0, 0, 0,\n",
              "       0, 0, 0, 0, 1, 0, 0, 0, 1, 1, 0, 1, 0, 1, 1, 0, 0, 1, 0, 1, 0, 1,\n",
              "       1, 1, 1, 1, 0, 1, 1, 0, 1, 1, 1, 0, 0, 1, 1, 1, 1, 1, 1, 0, 0, 1,\n",
              "       1, 0, 1, 1, 1, 1, 1, 0, 0, 1, 0, 0, 1, 1, 1, 1, 0, 0, 1, 0, 1, 0,\n",
              "       1, 0, 1, 1, 0, 1, 1, 1, 1, 0, 0, 1, 1, 1, 0, 1, 1, 0, 1, 1, 0, 0,\n",
              "       1, 1, 0, 0, 0, 1, 1, 1, 0, 0, 1, 0, 0, 1, 1, 1, 1, 0, 0, 0, 1, 0,\n",
              "       0, 1, 1, 0, 0, 1, 1, 0, 0, 1, 0, 0, 0, 0, 1, 0, 0, 0, 0, 0, 0, 0,\n",
              "       1, 0, 1, 1, 1, 0, 0, 1, 0, 0, 1, 1, 0, 0, 0, 1, 1, 1, 1, 1, 0, 1,\n",
              "       0, 1, 0, 1, 0, 1, 0, 0, 1, 0, 0, 1, 0, 1, 0, 1, 1, 1, 1, 1, 0, 0,\n",
              "       0, 0, 1, 0, 1, 0, 0, 1, 1, 0, 0, 1, 1, 1, 0, 0, 1, 0, 0, 1, 1, 1,\n",
              "       0, 1, 1, 1, 0, 1, 1, 1, 1, 1, 1, 0, 0, 1, 1, 1, 1, 1, 0, 0, 0, 0,\n",
              "       0, 1, 1, 1, 0, 1, 0, 1, 0, 0, 0, 1, 0, 0, 0, 1, 0, 1, 0, 1, 1, 1,\n",
              "       1, 0, 1, 0, 1, 0, 1, 1, 0, 1, 1, 1, 1, 1, 1, 1, 1, 1, 1, 1, 0, 0,\n",
              "       0, 1, 1, 1, 0, 1, 0, 0, 0, 0, 0, 0, 0, 1, 0, 1, 1, 0, 0, 1, 1, 1,\n",
              "       1, 1, 0, 1, 0, 0, 1, 1, 0, 0, 0, 1, 0, 0, 1, 1, 0, 0, 0, 1, 1, 1,\n",
              "       0, 1, 0, 1, 1, 0, 0, 1, 1, 0, 1, 1, 1, 0, 0, 0, 0, 1, 1, 0, 0, 1,\n",
              "       1, 0, 0, 0, 0, 1, 0, 1, 1, 1, 1, 0, 1, 1, 0, 1, 1, 0, 0, 1, 1, 0,\n",
              "       0, 0, 0, 1, 0, 1, 1, 0, 1, 0, 0, 0, 0, 0, 0, 0, 1, 0, 0, 0, 0, 1,\n",
              "       1, 1, 0, 0, 1, 1, 0, 1, 1, 1, 1, 1, 0, 0, 0, 1, 0, 1, 0, 1, 1, 0,\n",
              "       1, 0, 1, 0, 0, 0, 1, 0, 0, 1, 0, 0, 1, 0, 0, 1, 1, 1, 1, 0, 1, 1,\n",
              "       0, 1, 0, 0, 1, 0, 1, 1, 0, 1, 0, 0, 1, 1, 1, 0, 1, 1, 1, 0, 1, 1,\n",
              "       1, 0, 1, 1, 0, 1, 1, 1, 0, 0, 0, 1, 1, 1, 0, 1, 1, 0, 0, 1, 0, 1,\n",
              "       0, 1, 0, 1, 1, 0, 0, 0, 0, 1, 1, 1, 0, 1, 0, 0, 0, 1, 0, 1, 0, 0,\n",
              "       1, 1, 0, 1, 0, 1, 0, 0, 0, 0, 0, 0, 0, 1, 1, 1, 1, 0, 1, 0, 0, 0,\n",
              "       0, 1, 0, 1, 0, 1, 1, 0, 0, 1, 1, 0, 0, 1, 0, 0, 1, 0, 0, 1, 1, 0,\n",
              "       0, 1, 1, 0, 1, 0, 1, 1, 1, 1, 1, 0, 0, 1, 1, 0, 1, 1, 1, 1, 1, 0,\n",
              "       1, 0, 0, 1, 0, 1, 0, 0, 0, 0, 1, 0, 0, 1, 0, 1, 0, 0, 1, 1, 1, 0,\n",
              "       1, 1, 0, 1, 1, 0, 1, 1, 0, 1, 1, 0, 1, 1, 0, 1, 0, 1, 0, 0, 0, 1,\n",
              "       0, 0, 0, 0, 1, 1, 0, 1, 0, 1])"
            ]
          },
          "metadata": {},
          "execution_count": 5
        }
      ]
    },
    {
      "cell_type": "code",
      "source": [
        "print(f'the hape of X is {X.shape } and the shape of Label is {y.shape}')"
      ],
      "metadata": {
        "colab": {
          "base_uri": "https://localhost:8080/"
        },
        "id": "ao364g8tZAZ0",
        "outputId": "b856b9c2-dbdc-47e5-a32f-1e5b514dd0a7"
      },
      "execution_count": 6,
      "outputs": [
        {
          "output_type": "stream",
          "name": "stdout",
          "text": [
            "the hape of X is (1000, 20) and the shape of Label is (1000,)\n"
          ]
        }
      ]
    },
    {
      "cell_type": "markdown",
      "source": [
        "**Split Data**"
      ],
      "metadata": {
        "id": "qnqzzZazZbBX"
      }
    },
    {
      "cell_type": "code",
      "source": [
        "# split into train-test sets\n",
        "X_train, X_test, y_train, y_test = train_test_split(X, y, test_size=0.3, random_state=27)\n",
        "\n",
        "print(pd.DataFrame(X))\n",
        "print(pd.Series(y))"
      ],
      "metadata": {
        "colab": {
          "base_uri": "https://localhost:8080/"
        },
        "id": "nM7uGAezZS9k",
        "outputId": "fb37c212-69aa-4eeb-ace3-fad176bcedcf"
      },
      "execution_count": 7,
      "outputs": [
        {
          "output_type": "stream",
          "name": "stdout",
          "text": [
            "           0         1         2         3         4         5         6   \\\n",
            "0   -0.258203  1.019808  1.524563  0.617243  0.148243  0.744111 -0.363963   \n",
            "1   -0.458166  0.828728 -0.656965 -0.056297  0.254895 -0.018241  0.313829   \n",
            "2   -0.387378  0.761818 -1.310351 -0.351663 -0.130643 -0.641420  0.152001   \n",
            "3   -2.394585 -0.036724  1.361228 -0.371470  1.871835 -1.226815  0.770733   \n",
            "4    0.258229 -1.600952  1.101282  1.659578  0.927923 -0.093182 -1.778309   \n",
            "..        ...       ...       ...       ...       ...       ...       ...   \n",
            "995 -0.724879  0.281545 -0.362035 -2.602418  0.699501 -0.328376  0.383521   \n",
            "996  2.085897  0.461640  0.372497 -1.838814  0.024923 -0.710831 -0.945424   \n",
            "997 -0.547793 -0.674539 -0.834644  1.050191 -0.797763  0.699879 -0.943583   \n",
            "998  0.559619 -0.625025  1.404538  0.593826 -0.270234 -0.519678 -1.407141   \n",
            "999 -1.424876  0.527146  0.157864 -0.926648 -0.801353  1.825411  0.999557   \n",
            "\n",
            "           7         8         9         10        11        12        13  \\\n",
            "0    1.549367  0.256960 -1.222225  0.636587  1.448634 -1.471582  1.918621   \n",
            "1   -0.386936 -1.632152 -2.059698  0.356881 -1.400478  0.326012  1.058607   \n",
            "2    0.941251  1.381526 -1.803593  0.749451  0.325846  0.742814  0.981221   \n",
            "3   -0.566035  0.688286  1.052618 -1.122666 -0.028873  0.498517 -1.113630   \n",
            "4    0.485978 -0.918154 -0.765634  0.601260  0.776797  0.182804 -0.963276   \n",
            "..        ...       ...       ...       ...       ...       ...       ...   \n",
            "995 -0.072851 -2.225106 -0.386934  1.686867  1.831139 -0.426400  1.068455   \n",
            "996  1.671489 -0.238396 -0.446206  0.747034 -1.104464  1.774805 -0.657410   \n",
            "997 -0.083061  1.525375  0.938323 -0.449004 -0.343585  0.145134  1.038857   \n",
            "998  1.923672 -0.161268 -1.092994 -0.534942 -1.230007 -0.821936 -1.078008   \n",
            "999  0.091012  0.332559 -0.601311  2.128989  1.417514  0.703116  0.341904   \n",
            "\n",
            "           14        15        16        17        18        19  \n",
            "0    2.584944  2.638990  0.069881  0.332721 -0.175407  1.501124  \n",
            "1   -0.668410 -0.622784 -0.405360  1.201937 -0.255835 -0.199313  \n",
            "2   -1.600239 -1.550548 -0.232538 -1.033209 -1.686671 -0.766836  \n",
            "3    1.640086  1.585018 -1.921666 -1.177293 -1.784434  0.132557  \n",
            "4    1.312165  1.265336  0.709714 -1.534325  0.698777 -1.625380  \n",
            "..        ...       ...       ...       ...       ...       ...  \n",
            "995 -0.253722 -0.210847  0.358016 -1.335716 -0.871125  0.658246  \n",
            "996  0.365474  0.337514  0.676548 -0.623767 -0.985299  0.067141  \n",
            "997 -0.921502 -0.874723  1.315291  0.578216 -1.172548  1.083019  \n",
            "998  1.709057  1.654835  0.732973 -1.669515 -0.292760  0.484569  \n",
            "999  0.301509  0.312341  0.292889  3.251636 -0.547791 -1.510333  \n",
            "\n",
            "[1000 rows x 20 columns]\n",
            "0      1\n",
            "1      1\n",
            "2      1\n",
            "3      0\n",
            "4      0\n",
            "      ..\n",
            "995    1\n",
            "996    0\n",
            "997    1\n",
            "998    0\n",
            "999    1\n",
            "Length: 1000, dtype: int64\n"
          ]
        }
      ]
    },
    {
      "cell_type": "markdown",
      "source": [
        "**Models**"
      ],
      "metadata": {
        "id": "MDkfUq_PZruD"
      }
    },
    {
      "cell_type": "code",
      "source": [
        "# logistic regression\n",
        "model1 = LogisticRegression()\n",
        "# knn\n",
        "model2 = KNeighborsClassifier(n_neighbors=4)"
      ],
      "metadata": {
        "id": "fNSDqyLEZfUO"
      },
      "execution_count": 9,
      "outputs": []
    },
    {
      "cell_type": "markdown",
      "source": [
        "**Train**"
      ],
      "metadata": {
        "id": "uZWjG9l7ZykM"
      }
    },
    {
      "cell_type": "code",
      "source": [
        "# fit model\n",
        "model1.fit(X_train, y_train)"
      ],
      "metadata": {
        "colab": {
          "base_uri": "https://localhost:8080/",
          "height": 74
        },
        "id": "WpAwCkQ0Zv6S",
        "outputId": "b469d503-e5fe-424b-996e-6675eebf31a5"
      },
      "execution_count": 11,
      "outputs": [
        {
          "output_type": "execute_result",
          "data": {
            "text/plain": [
              "LogisticRegression()"
            ],
            "text/html": [
              "<style>#sk-container-id-2 {color: black;background-color: white;}#sk-container-id-2 pre{padding: 0;}#sk-container-id-2 div.sk-toggleable {background-color: white;}#sk-container-id-2 label.sk-toggleable__label {cursor: pointer;display: block;width: 100%;margin-bottom: 0;padding: 0.3em;box-sizing: border-box;text-align: center;}#sk-container-id-2 label.sk-toggleable__label-arrow:before {content: \"▸\";float: left;margin-right: 0.25em;color: #696969;}#sk-container-id-2 label.sk-toggleable__label-arrow:hover:before {color: black;}#sk-container-id-2 div.sk-estimator:hover label.sk-toggleable__label-arrow:before {color: black;}#sk-container-id-2 div.sk-toggleable__content {max-height: 0;max-width: 0;overflow: hidden;text-align: left;background-color: #f0f8ff;}#sk-container-id-2 div.sk-toggleable__content pre {margin: 0.2em;color: black;border-radius: 0.25em;background-color: #f0f8ff;}#sk-container-id-2 input.sk-toggleable__control:checked~div.sk-toggleable__content {max-height: 200px;max-width: 100%;overflow: auto;}#sk-container-id-2 input.sk-toggleable__control:checked~label.sk-toggleable__label-arrow:before {content: \"▾\";}#sk-container-id-2 div.sk-estimator input.sk-toggleable__control:checked~label.sk-toggleable__label {background-color: #d4ebff;}#sk-container-id-2 div.sk-label input.sk-toggleable__control:checked~label.sk-toggleable__label {background-color: #d4ebff;}#sk-container-id-2 input.sk-hidden--visually {border: 0;clip: rect(1px 1px 1px 1px);clip: rect(1px, 1px, 1px, 1px);height: 1px;margin: -1px;overflow: hidden;padding: 0;position: absolute;width: 1px;}#sk-container-id-2 div.sk-estimator {font-family: monospace;background-color: #f0f8ff;border: 1px dotted black;border-radius: 0.25em;box-sizing: border-box;margin-bottom: 0.5em;}#sk-container-id-2 div.sk-estimator:hover {background-color: #d4ebff;}#sk-container-id-2 div.sk-parallel-item::after {content: \"\";width: 100%;border-bottom: 1px solid gray;flex-grow: 1;}#sk-container-id-2 div.sk-label:hover label.sk-toggleable__label {background-color: #d4ebff;}#sk-container-id-2 div.sk-serial::before {content: \"\";position: absolute;border-left: 1px solid gray;box-sizing: border-box;top: 0;bottom: 0;left: 50%;z-index: 0;}#sk-container-id-2 div.sk-serial {display: flex;flex-direction: column;align-items: center;background-color: white;padding-right: 0.2em;padding-left: 0.2em;position: relative;}#sk-container-id-2 div.sk-item {position: relative;z-index: 1;}#sk-container-id-2 div.sk-parallel {display: flex;align-items: stretch;justify-content: center;background-color: white;position: relative;}#sk-container-id-2 div.sk-item::before, #sk-container-id-2 div.sk-parallel-item::before {content: \"\";position: absolute;border-left: 1px solid gray;box-sizing: border-box;top: 0;bottom: 0;left: 50%;z-index: -1;}#sk-container-id-2 div.sk-parallel-item {display: flex;flex-direction: column;z-index: 1;position: relative;background-color: white;}#sk-container-id-2 div.sk-parallel-item:first-child::after {align-self: flex-end;width: 50%;}#sk-container-id-2 div.sk-parallel-item:last-child::after {align-self: flex-start;width: 50%;}#sk-container-id-2 div.sk-parallel-item:only-child::after {width: 0;}#sk-container-id-2 div.sk-dashed-wrapped {border: 1px dashed gray;margin: 0 0.4em 0.5em 0.4em;box-sizing: border-box;padding-bottom: 0.4em;background-color: white;}#sk-container-id-2 div.sk-label label {font-family: monospace;font-weight: bold;display: inline-block;line-height: 1.2em;}#sk-container-id-2 div.sk-label-container {text-align: center;}#sk-container-id-2 div.sk-container {/* jupyter's `normalize.less` sets `[hidden] { display: none; }` but bootstrap.min.css set `[hidden] { display: none !important; }` so we also need the `!important` here to be able to override the default hidden behavior on the sphinx rendered scikit-learn.org. See: https://github.com/scikit-learn/scikit-learn/issues/21755 */display: inline-block !important;position: relative;}#sk-container-id-2 div.sk-text-repr-fallback {display: none;}</style><div id=\"sk-container-id-2\" class=\"sk-top-container\"><div class=\"sk-text-repr-fallback\"><pre>LogisticRegression()</pre><b>In a Jupyter environment, please rerun this cell to show the HTML representation or trust the notebook. <br />On GitHub, the HTML representation is unable to render, please try loading this page with nbviewer.org.</b></div><div class=\"sk-container\" hidden><div class=\"sk-item\"><div class=\"sk-estimator sk-toggleable\"><input class=\"sk-toggleable__control sk-hidden--visually\" id=\"sk-estimator-id-2\" type=\"checkbox\" checked><label for=\"sk-estimator-id-2\" class=\"sk-toggleable__label sk-toggleable__label-arrow\">LogisticRegression</label><div class=\"sk-toggleable__content\"><pre>LogisticRegression()</pre></div></div></div></div></div>"
            ]
          },
          "metadata": {},
          "execution_count": 11
        }
      ]
    },
    {
      "cell_type": "code",
      "source": [
        "model2.fit(X_train, y_train)"
      ],
      "metadata": {
        "colab": {
          "base_uri": "https://localhost:8080/",
          "height": 74
        },
        "id": "W4lz4UMSZ_HL",
        "outputId": "23fb332d-de55-4f37-c841-d8928f060760"
      },
      "execution_count": 12,
      "outputs": [
        {
          "output_type": "execute_result",
          "data": {
            "text/plain": [
              "KNeighborsClassifier(n_neighbors=4)"
            ],
            "text/html": [
              "<style>#sk-container-id-3 {color: black;background-color: white;}#sk-container-id-3 pre{padding: 0;}#sk-container-id-3 div.sk-toggleable {background-color: white;}#sk-container-id-3 label.sk-toggleable__label {cursor: pointer;display: block;width: 100%;margin-bottom: 0;padding: 0.3em;box-sizing: border-box;text-align: center;}#sk-container-id-3 label.sk-toggleable__label-arrow:before {content: \"▸\";float: left;margin-right: 0.25em;color: #696969;}#sk-container-id-3 label.sk-toggleable__label-arrow:hover:before {color: black;}#sk-container-id-3 div.sk-estimator:hover label.sk-toggleable__label-arrow:before {color: black;}#sk-container-id-3 div.sk-toggleable__content {max-height: 0;max-width: 0;overflow: hidden;text-align: left;background-color: #f0f8ff;}#sk-container-id-3 div.sk-toggleable__content pre {margin: 0.2em;color: black;border-radius: 0.25em;background-color: #f0f8ff;}#sk-container-id-3 input.sk-toggleable__control:checked~div.sk-toggleable__content {max-height: 200px;max-width: 100%;overflow: auto;}#sk-container-id-3 input.sk-toggleable__control:checked~label.sk-toggleable__label-arrow:before {content: \"▾\";}#sk-container-id-3 div.sk-estimator input.sk-toggleable__control:checked~label.sk-toggleable__label {background-color: #d4ebff;}#sk-container-id-3 div.sk-label input.sk-toggleable__control:checked~label.sk-toggleable__label {background-color: #d4ebff;}#sk-container-id-3 input.sk-hidden--visually {border: 0;clip: rect(1px 1px 1px 1px);clip: rect(1px, 1px, 1px, 1px);height: 1px;margin: -1px;overflow: hidden;padding: 0;position: absolute;width: 1px;}#sk-container-id-3 div.sk-estimator {font-family: monospace;background-color: #f0f8ff;border: 1px dotted black;border-radius: 0.25em;box-sizing: border-box;margin-bottom: 0.5em;}#sk-container-id-3 div.sk-estimator:hover {background-color: #d4ebff;}#sk-container-id-3 div.sk-parallel-item::after {content: \"\";width: 100%;border-bottom: 1px solid gray;flex-grow: 1;}#sk-container-id-3 div.sk-label:hover label.sk-toggleable__label {background-color: #d4ebff;}#sk-container-id-3 div.sk-serial::before {content: \"\";position: absolute;border-left: 1px solid gray;box-sizing: border-box;top: 0;bottom: 0;left: 50%;z-index: 0;}#sk-container-id-3 div.sk-serial {display: flex;flex-direction: column;align-items: center;background-color: white;padding-right: 0.2em;padding-left: 0.2em;position: relative;}#sk-container-id-3 div.sk-item {position: relative;z-index: 1;}#sk-container-id-3 div.sk-parallel {display: flex;align-items: stretch;justify-content: center;background-color: white;position: relative;}#sk-container-id-3 div.sk-item::before, #sk-container-id-3 div.sk-parallel-item::before {content: \"\";position: absolute;border-left: 1px solid gray;box-sizing: border-box;top: 0;bottom: 0;left: 50%;z-index: -1;}#sk-container-id-3 div.sk-parallel-item {display: flex;flex-direction: column;z-index: 1;position: relative;background-color: white;}#sk-container-id-3 div.sk-parallel-item:first-child::after {align-self: flex-end;width: 50%;}#sk-container-id-3 div.sk-parallel-item:last-child::after {align-self: flex-start;width: 50%;}#sk-container-id-3 div.sk-parallel-item:only-child::after {width: 0;}#sk-container-id-3 div.sk-dashed-wrapped {border: 1px dashed gray;margin: 0 0.4em 0.5em 0.4em;box-sizing: border-box;padding-bottom: 0.4em;background-color: white;}#sk-container-id-3 div.sk-label label {font-family: monospace;font-weight: bold;display: inline-block;line-height: 1.2em;}#sk-container-id-3 div.sk-label-container {text-align: center;}#sk-container-id-3 div.sk-container {/* jupyter's `normalize.less` sets `[hidden] { display: none; }` but bootstrap.min.css set `[hidden] { display: none !important; }` so we also need the `!important` here to be able to override the default hidden behavior on the sphinx rendered scikit-learn.org. See: https://github.com/scikit-learn/scikit-learn/issues/21755 */display: inline-block !important;position: relative;}#sk-container-id-3 div.sk-text-repr-fallback {display: none;}</style><div id=\"sk-container-id-3\" class=\"sk-top-container\"><div class=\"sk-text-repr-fallback\"><pre>KNeighborsClassifier(n_neighbors=4)</pre><b>In a Jupyter environment, please rerun this cell to show the HTML representation or trust the notebook. <br />On GitHub, the HTML representation is unable to render, please try loading this page with nbviewer.org.</b></div><div class=\"sk-container\" hidden><div class=\"sk-item\"><div class=\"sk-estimator sk-toggleable\"><input class=\"sk-toggleable__control sk-hidden--visually\" id=\"sk-estimator-id-3\" type=\"checkbox\" checked><label for=\"sk-estimator-id-3\" class=\"sk-toggleable__label sk-toggleable__label-arrow\">KNeighborsClassifier</label><div class=\"sk-toggleable__content\"><pre>KNeighborsClassifier(n_neighbors=4)</pre></div></div></div></div></div>"
            ]
          },
          "metadata": {},
          "execution_count": 12
        }
      ]
    },
    {
      "cell_type": "markdown",
      "source": [
        "**predict probabilities**"
      ],
      "metadata": {
        "id": "fwZRlcphaBnw"
      }
    },
    {
      "cell_type": "code",
      "source": [
        "# predict probabilities\n",
        "pred_prob1 = model1.predict_proba(X_test)\n",
        "pred_prob2 = model2.predict_proba(X_test)"
      ],
      "metadata": {
        "id": "VZdQcMqQZ1PD"
      },
      "execution_count": 13,
      "outputs": []
    },
    {
      "cell_type": "code",
      "source": [
        "pred_prob1"
      ],
      "metadata": {
        "colab": {
          "base_uri": "https://localhost:8080/"
        },
        "id": "6NzyzRt7Z-oM",
        "outputId": "93a5a6ff-a955-4718-ea27-61955e96cfcf"
      },
      "execution_count": 14,
      "outputs": [
        {
          "output_type": "execute_result",
          "data": {
            "text/plain": [
              "array([[4.24163731e-03, 9.95758363e-01],\n",
              "       [9.89644051e-01, 1.03559491e-02],\n",
              "       [5.01252208e-05, 9.99949875e-01],\n",
              "       [8.58698467e-01, 1.41301533e-01],\n",
              "       [3.72425389e-01, 6.27574611e-01],\n",
              "       [9.74275380e-01, 2.57246197e-02],\n",
              "       [9.99677193e-01, 3.22806515e-04],\n",
              "       [6.70338963e-01, 3.29661037e-01],\n",
              "       [1.27738231e-01, 8.72261769e-01],\n",
              "       [3.41530252e-02, 9.65846975e-01],\n",
              "       [1.21992495e-01, 8.78007505e-01],\n",
              "       [9.97923279e-01, 2.07672146e-03],\n",
              "       [4.76731051e-01, 5.23268949e-01],\n",
              "       [9.94895776e-01, 5.10422436e-03],\n",
              "       [9.67578587e-01, 3.24214127e-02],\n",
              "       [9.86871191e-01, 1.31288092e-02],\n",
              "       [9.48974008e-01, 5.10259918e-02],\n",
              "       [2.89861407e-03, 9.97101386e-01],\n",
              "       [9.99727345e-01, 2.72654631e-04],\n",
              "       [9.52366420e-01, 4.76335797e-02],\n",
              "       [9.83778801e-01, 1.62211990e-02],\n",
              "       [9.90141893e-01, 9.85810714e-03],\n",
              "       [9.84360706e-01, 1.56392940e-02],\n",
              "       [1.50042831e-02, 9.84995717e-01],\n",
              "       [9.66576810e-01, 3.34231896e-02],\n",
              "       [9.87791455e-03, 9.90122085e-01],\n",
              "       [2.71868830e-01, 7.28131170e-01],\n",
              "       [9.75439266e-01, 2.45607343e-02],\n",
              "       [9.99862728e-01, 1.37271509e-04],\n",
              "       [7.86690022e-01, 2.13309978e-01],\n",
              "       [8.31760181e-01, 1.68239819e-01],\n",
              "       [6.69428115e-01, 3.30571885e-01],\n",
              "       [9.43854837e-01, 5.61451628e-02],\n",
              "       [8.61778509e-01, 1.38221491e-01],\n",
              "       [8.47744749e-02, 9.15225525e-01],\n",
              "       [2.90158580e-02, 9.70984142e-01],\n",
              "       [9.99076692e-01, 9.23307745e-04],\n",
              "       [8.17695000e-01, 1.82305000e-01],\n",
              "       [1.47708699e-02, 9.85229130e-01],\n",
              "       [9.98710849e-01, 1.28915059e-03],\n",
              "       [7.66338544e-03, 9.92336615e-01],\n",
              "       [9.60371701e-01, 3.96282991e-02],\n",
              "       [9.28087408e-01, 7.19125923e-02],\n",
              "       [5.76133014e-04, 9.99423867e-01],\n",
              "       [1.37363119e-07, 9.99999863e-01],\n",
              "       [8.62577182e-03, 9.91374228e-01],\n",
              "       [9.10656606e-01, 8.93433937e-02],\n",
              "       [3.91843093e-05, 9.99960816e-01],\n",
              "       [9.47453419e-01, 5.25465811e-02],\n",
              "       [9.97232248e-01, 2.76775153e-03],\n",
              "       [1.34411244e-01, 8.65588756e-01],\n",
              "       [2.76298571e-03, 9.97237014e-01],\n",
              "       [8.49909641e-03, 9.91500904e-01],\n",
              "       [1.51664435e-05, 9.99984834e-01],\n",
              "       [1.67740794e-04, 9.99832259e-01],\n",
              "       [9.00491042e-01, 9.95089576e-02],\n",
              "       [1.37894177e-01, 8.62105823e-01],\n",
              "       [1.11327806e-02, 9.88867219e-01],\n",
              "       [2.91035496e-02, 9.70896450e-01],\n",
              "       [8.65921484e-01, 1.34078516e-01],\n",
              "       [2.10191359e-02, 9.78980864e-01],\n",
              "       [2.72737214e-04, 9.99727263e-01],\n",
              "       [9.64259501e-01, 3.57404990e-02],\n",
              "       [9.99664831e-01, 3.35168729e-04],\n",
              "       [1.75449052e-02, 9.82455095e-01],\n",
              "       [9.81979877e-01, 1.80201235e-02],\n",
              "       [9.67874391e-01, 3.21256087e-02],\n",
              "       [2.66792316e-05, 9.99973321e-01],\n",
              "       [9.93227083e-01, 6.77291748e-03],\n",
              "       [7.84831879e-05, 9.99921517e-01],\n",
              "       [4.30069947e-03, 9.95699301e-01],\n",
              "       [1.03571292e-03, 9.98964287e-01],\n",
              "       [9.87899892e-01, 1.21001083e-02],\n",
              "       [9.99642418e-01, 3.57582497e-04],\n",
              "       [9.23865036e-01, 7.61349645e-02],\n",
              "       [9.73141823e-01, 2.68581767e-02],\n",
              "       [5.79503999e-02, 9.42049600e-01],\n",
              "       [1.71089891e-01, 8.28910109e-01],\n",
              "       [1.91861886e-02, 9.80813811e-01],\n",
              "       [2.87407049e-02, 9.71259295e-01],\n",
              "       [7.88157320e-01, 2.11842680e-01],\n",
              "       [3.45850105e-07, 9.99999654e-01],\n",
              "       [9.61620882e-01, 3.83791177e-02],\n",
              "       [6.54371476e-01, 3.45628524e-01],\n",
              "       [3.70654755e-02, 9.62934525e-01],\n",
              "       [9.46471959e-01, 5.35280411e-02],\n",
              "       [9.77772535e-01, 2.22274650e-02],\n",
              "       [9.64808034e-01, 3.51919655e-02],\n",
              "       [4.07415941e-04, 9.99592584e-01],\n",
              "       [9.80026329e-01, 1.99736713e-02],\n",
              "       [9.98938808e-01, 1.06119203e-03],\n",
              "       [4.54273018e-03, 9.95457270e-01],\n",
              "       [9.96018533e-01, 3.98146723e-03],\n",
              "       [9.65257373e-01, 3.47426273e-02],\n",
              "       [9.46198640e-01, 5.38013602e-02],\n",
              "       [9.39813277e-01, 6.01867227e-02],\n",
              "       [8.93236609e-01, 1.06763391e-01],\n",
              "       [4.49681319e-07, 9.99999550e-01],\n",
              "       [9.72846944e-01, 2.71530560e-02],\n",
              "       [9.55916933e-01, 4.40830670e-02],\n",
              "       [9.90217836e-01, 9.78216371e-03],\n",
              "       [8.82400934e-01, 1.17599066e-01],\n",
              "       [2.36128338e-04, 9.99763872e-01],\n",
              "       [9.63550367e-01, 3.64496331e-02],\n",
              "       [8.85258702e-01, 1.14741298e-01],\n",
              "       [6.11073635e-05, 9.99938893e-01],\n",
              "       [8.02486297e-02, 9.19751370e-01],\n",
              "       [9.83545650e-01, 1.64543503e-02],\n",
              "       [3.77516109e-02, 9.62248389e-01],\n",
              "       [9.97604622e-01, 2.39537761e-03],\n",
              "       [3.61654342e-03, 9.96383457e-01],\n",
              "       [5.82401421e-04, 9.99417599e-01],\n",
              "       [9.90332796e-01, 9.66720410e-03],\n",
              "       [7.60032367e-01, 2.39967633e-01],\n",
              "       [6.94294320e-03, 9.93057057e-01],\n",
              "       [2.38544328e-02, 9.76145567e-01],\n",
              "       [8.73462843e-01, 1.26537157e-01],\n",
              "       [6.55072950e-06, 9.99993449e-01],\n",
              "       [9.66463799e-01, 3.35362010e-02],\n",
              "       [5.94372065e-01, 4.05627935e-01],\n",
              "       [9.81349023e-01, 1.86509771e-02],\n",
              "       [9.98359505e-01, 1.64049527e-03],\n",
              "       [9.95332165e-01, 4.66783543e-03],\n",
              "       [6.77141123e-04, 9.99322859e-01],\n",
              "       [8.68878129e-01, 1.31121871e-01],\n",
              "       [4.62144030e-03, 9.95378560e-01],\n",
              "       [9.99036372e-01, 9.63627918e-04],\n",
              "       [8.03799687e-01, 1.96200313e-01],\n",
              "       [9.51290266e-01, 4.87097339e-02],\n",
              "       [1.44231010e-02, 9.85576899e-01],\n",
              "       [9.07092940e-01, 9.29070600e-02],\n",
              "       [9.64594237e-01, 3.54057631e-02],\n",
              "       [9.98906581e-01, 1.09341891e-03],\n",
              "       [9.20602897e-01, 7.93971030e-02],\n",
              "       [2.59212578e-03, 9.97407874e-01],\n",
              "       [9.86811790e-01, 1.31882097e-02],\n",
              "       [9.54146467e-01, 4.58535330e-02],\n",
              "       [9.98894655e-01, 1.10534479e-03],\n",
              "       [1.76940930e-03, 9.98230591e-01],\n",
              "       [1.20645049e-02, 9.87935495e-01],\n",
              "       [9.94913425e-01, 5.08657454e-03],\n",
              "       [2.93099560e-03, 9.97069004e-01],\n",
              "       [1.57468438e-02, 9.84253156e-01],\n",
              "       [1.04969556e-03, 9.98950304e-01],\n",
              "       [3.49032624e-03, 9.96509674e-01],\n",
              "       [9.02620396e-02, 9.09737960e-01],\n",
              "       [9.97559690e-01, 2.44031008e-03],\n",
              "       [8.89911486e-01, 1.10088514e-01],\n",
              "       [9.98390424e-01, 1.60957572e-03],\n",
              "       [1.79913218e-03, 9.98200868e-01],\n",
              "       [2.88645136e-02, 9.71135486e-01],\n",
              "       [2.38211641e-02, 9.76178836e-01],\n",
              "       [7.19053431e-01, 2.80946569e-01],\n",
              "       [7.21879690e-03, 9.92781203e-01],\n",
              "       [9.06444370e-01, 9.35556302e-02],\n",
              "       [7.16887126e-02, 9.28311287e-01],\n",
              "       [8.06576958e-01, 1.93423042e-01],\n",
              "       [1.22979609e-05, 9.99987702e-01],\n",
              "       [8.46130119e-01, 1.53869881e-01],\n",
              "       [9.59742007e-01, 4.02579934e-02],\n",
              "       [2.67567040e-03, 9.97324330e-01],\n",
              "       [9.99855086e-01, 1.44914089e-04],\n",
              "       [9.94299489e-01, 5.70051059e-03],\n",
              "       [9.78433209e-01, 2.15667913e-02],\n",
              "       [9.87422599e-01, 1.25774014e-02],\n",
              "       [2.34774628e-02, 9.76522537e-01],\n",
              "       [4.24955397e-01, 5.75044603e-01],\n",
              "       [1.00769275e-02, 9.89923073e-01],\n",
              "       [6.04387786e-03, 9.93956122e-01],\n",
              "       [9.99695139e-01, 3.04861027e-04],\n",
              "       [9.75708508e-01, 2.42914923e-02],\n",
              "       [2.04836833e-03, 9.97951632e-01],\n",
              "       [2.01819315e-05, 9.99979818e-01],\n",
              "       [6.98317683e-03, 9.93016823e-01],\n",
              "       [1.88640827e-01, 8.11359173e-01],\n",
              "       [8.02919423e-01, 1.97080577e-01],\n",
              "       [2.51470713e-01, 7.48529287e-01],\n",
              "       [9.92904929e-01, 7.09507137e-03],\n",
              "       [1.43193519e-03, 9.98568065e-01],\n",
              "       [4.85017619e-03, 9.95149824e-01],\n",
              "       [2.34659844e-03, 9.97653402e-01],\n",
              "       [9.00748958e-02, 9.09925104e-01],\n",
              "       [9.51860664e-01, 4.81393357e-02],\n",
              "       [9.03833316e-01, 9.61666838e-02],\n",
              "       [9.41093767e-01, 5.89062327e-02],\n",
              "       [9.67700604e-01, 3.22993957e-02],\n",
              "       [9.76616409e-01, 2.33835908e-02],\n",
              "       [7.59627741e-01, 2.40372259e-01],\n",
              "       [1.99407706e-02, 9.80059229e-01],\n",
              "       [1.24075680e-04, 9.99875924e-01],\n",
              "       [4.89974361e-01, 5.10025639e-01],\n",
              "       [3.06641546e-02, 9.69335845e-01],\n",
              "       [9.94758502e-01, 5.24149827e-03],\n",
              "       [9.44283103e-01, 5.57168973e-02],\n",
              "       [9.71959152e-01, 2.80408482e-02],\n",
              "       [6.49989796e-01, 3.50010204e-01],\n",
              "       [8.87943286e-01, 1.12056714e-01],\n",
              "       [8.60647906e-01, 1.39352094e-01],\n",
              "       [9.87058358e-01, 1.29416418e-02],\n",
              "       [9.97260136e-01, 2.73986352e-03],\n",
              "       [9.26812101e-01, 7.31878990e-02],\n",
              "       [9.58862663e-01, 4.11373367e-02],\n",
              "       [5.56288587e-06, 9.99994437e-01],\n",
              "       [6.60484797e-02, 9.33951520e-01],\n",
              "       [8.65635575e-01, 1.34364425e-01],\n",
              "       [2.77226886e-03, 9.97227731e-01],\n",
              "       [8.63901517e-01, 1.36098483e-01],\n",
              "       [9.99968152e-01, 3.18483553e-05],\n",
              "       [2.08331837e-02, 9.79166816e-01],\n",
              "       [7.60646996e-04, 9.99239353e-01],\n",
              "       [9.90294084e-01, 9.70591592e-03],\n",
              "       [3.65565844e-03, 9.96344342e-01],\n",
              "       [9.45346583e-01, 5.46534165e-02],\n",
              "       [4.51291234e-04, 9.99548709e-01],\n",
              "       [9.93571225e-01, 6.42877522e-03],\n",
              "       [1.02024059e-02, 9.89797594e-01],\n",
              "       [6.33520906e-02, 9.36647909e-01],\n",
              "       [9.84107591e-01, 1.58924091e-02],\n",
              "       [9.65164333e-01, 3.48356668e-02],\n",
              "       [9.88540762e-01, 1.14592382e-02],\n",
              "       [2.09883723e-01, 7.90116277e-01],\n",
              "       [2.96384948e-07, 9.99999704e-01],\n",
              "       [2.25909167e-02, 9.77409083e-01],\n",
              "       [9.81082687e-01, 1.89173134e-02],\n",
              "       [1.72684437e-02, 9.82731556e-01],\n",
              "       [5.33221177e-03, 9.94667788e-01],\n",
              "       [9.55969533e-01, 4.40304674e-02],\n",
              "       [9.48843372e-01, 5.11566275e-02],\n",
              "       [9.54421710e-01, 4.55782904e-02],\n",
              "       [9.99788286e-01, 2.11714286e-04],\n",
              "       [9.67355015e-01, 3.26449847e-02],\n",
              "       [9.66337657e-01, 3.36623434e-02],\n",
              "       [1.11821726e-02, 9.88817827e-01],\n",
              "       [1.97158565e-04, 9.99802841e-01],\n",
              "       [1.52053791e-01, 8.47946209e-01],\n",
              "       [8.14599245e-01, 1.85400755e-01],\n",
              "       [4.34454474e-02, 9.56554553e-01],\n",
              "       [9.17105099e-01, 8.28949009e-02],\n",
              "       [9.52231164e-01, 4.77688355e-02],\n",
              "       [4.83356998e-03, 9.95166430e-01],\n",
              "       [8.97802502e-01, 1.02197498e-01],\n",
              "       [8.08440427e-02, 9.19155957e-01],\n",
              "       [9.97198721e-01, 2.80127862e-03],\n",
              "       [2.67323968e-02, 9.73267603e-01],\n",
              "       [1.27175438e-05, 9.99987282e-01],\n",
              "       [9.99123397e-01, 8.76602966e-04],\n",
              "       [6.41931086e-02, 9.35806891e-01],\n",
              "       [9.83902184e-01, 1.60978161e-02],\n",
              "       [8.34396450e-01, 1.65603550e-01],\n",
              "       [9.73878927e-01, 2.61210734e-02],\n",
              "       [9.11955458e-01, 8.80445416e-02],\n",
              "       [9.66325405e-01, 3.36745954e-02],\n",
              "       [8.98195194e-01, 1.01804806e-01],\n",
              "       [9.91975814e-01, 8.02418629e-03],\n",
              "       [9.64297685e-01, 3.57023147e-02],\n",
              "       [9.40440177e-01, 5.95598229e-02],\n",
              "       [1.29531988e-02, 9.87046801e-01],\n",
              "       [9.96002569e-01, 3.99743085e-03],\n",
              "       [1.18267944e-03, 9.98817321e-01],\n",
              "       [1.11074032e-03, 9.98889260e-01],\n",
              "       [9.99903566e-01, 9.64339848e-05],\n",
              "       [3.60299153e-04, 9.99639701e-01],\n",
              "       [4.45165231e-03, 9.95548348e-01],\n",
              "       [9.49703148e-01, 5.02968520e-02],\n",
              "       [1.31051671e-02, 9.86894833e-01],\n",
              "       [7.22517813e-01, 2.77482187e-01],\n",
              "       [9.26928929e-01, 7.30710711e-02],\n",
              "       [2.38940677e-03, 9.97610593e-01],\n",
              "       [8.88458380e-01, 1.11541620e-01],\n",
              "       [6.64437669e-03, 9.93355623e-01],\n",
              "       [9.69009623e-01, 3.09903765e-02],\n",
              "       [6.53014401e-01, 3.46985599e-01],\n",
              "       [3.97009726e-02, 9.60299027e-01],\n",
              "       [9.78431914e-01, 2.15680864e-02],\n",
              "       [1.89210579e-03, 9.98107894e-01],\n",
              "       [5.93194488e-05, 9.99940681e-01],\n",
              "       [8.67140529e-01, 1.32859471e-01],\n",
              "       [2.20859185e-04, 9.99779141e-01],\n",
              "       [2.45542899e-06, 9.99997545e-01],\n",
              "       [9.85327799e-01, 1.46722013e-02],\n",
              "       [9.97591218e-01, 2.40878186e-03],\n",
              "       [1.65850887e-06, 9.99998341e-01],\n",
              "       [9.44685260e-01, 5.53147399e-02],\n",
              "       [9.68561021e-01, 3.14389791e-02],\n",
              "       [2.36480226e-03, 9.97635198e-01],\n",
              "       [8.47755091e-01, 1.52244909e-01],\n",
              "       [9.23474160e-01, 7.65258400e-02],\n",
              "       [1.76799899e-01, 8.23200101e-01],\n",
              "       [8.30003304e-01, 1.69996696e-01],\n",
              "       [9.45306032e-01, 5.46939684e-02],\n",
              "       [1.71463335e-04, 9.99828537e-01],\n",
              "       [3.95570809e-03, 9.96044292e-01],\n",
              "       [6.57754182e-01, 3.42245818e-01],\n",
              "       [9.44277958e-01, 5.57220417e-02],\n",
              "       [9.50886698e-01, 4.91133024e-02],\n",
              "       [9.16570700e-01, 8.34292997e-02],\n",
              "       [4.23068520e-02, 9.57693148e-01],\n",
              "       [1.39685457e-05, 9.99986031e-01],\n",
              "       [4.10076755e-05, 9.99958992e-01],\n",
              "       [9.18764950e-01, 8.12350496e-02]])"
            ]
          },
          "metadata": {},
          "execution_count": 14
        }
      ]
    },
    {
      "cell_type": "code",
      "source": [
        "pred_prob2"
      ],
      "metadata": {
        "colab": {
          "base_uri": "https://localhost:8080/"
        },
        "id": "_Bz1tUKiaEl9",
        "outputId": "6ab4d6f7-ecdf-4d8c-8b52-604df2d6a81b"
      },
      "execution_count": 15,
      "outputs": [
        {
          "output_type": "execute_result",
          "data": {
            "text/plain": [
              "array([[0.5 , 0.5 ],\n",
              "       [1.  , 0.  ],\n",
              "       [0.25, 0.75],\n",
              "       [0.75, 0.25],\n",
              "       [0.  , 1.  ],\n",
              "       [1.  , 0.  ],\n",
              "       [1.  , 0.  ],\n",
              "       [1.  , 0.  ],\n",
              "       [0.25, 0.75],\n",
              "       [0.5 , 0.5 ],\n",
              "       [0.5 , 0.5 ],\n",
              "       [1.  , 0.  ],\n",
              "       [0.5 , 0.5 ],\n",
              "       [0.75, 0.25],\n",
              "       [1.  , 0.  ],\n",
              "       [1.  , 0.  ],\n",
              "       [1.  , 0.  ],\n",
              "       [0.  , 1.  ],\n",
              "       [1.  , 0.  ],\n",
              "       [0.5 , 0.5 ],\n",
              "       [0.75, 0.25],\n",
              "       [0.5 , 0.5 ],\n",
              "       [1.  , 0.  ],\n",
              "       [0.  , 1.  ],\n",
              "       [0.5 , 0.5 ],\n",
              "       [0.25, 0.75],\n",
              "       [0.25, 0.75],\n",
              "       [0.75, 0.25],\n",
              "       [1.  , 0.  ],\n",
              "       [1.  , 0.  ],\n",
              "       [1.  , 0.  ],\n",
              "       [0.5 , 0.5 ],\n",
              "       [0.5 , 0.5 ],\n",
              "       [0.  , 1.  ],\n",
              "       [0.5 , 0.5 ],\n",
              "       [0.25, 0.75],\n",
              "       [0.75, 0.25],\n",
              "       [0.75, 0.25],\n",
              "       [0.5 , 0.5 ],\n",
              "       [0.75, 0.25],\n",
              "       [0.25, 0.75],\n",
              "       [0.25, 0.75],\n",
              "       [1.  , 0.  ],\n",
              "       [0.  , 1.  ],\n",
              "       [0.  , 1.  ],\n",
              "       [0.  , 1.  ],\n",
              "       [0.75, 0.25],\n",
              "       [0.  , 1.  ],\n",
              "       [0.75, 0.25],\n",
              "       [1.  , 0.  ],\n",
              "       [1.  , 0.  ],\n",
              "       [0.  , 1.  ],\n",
              "       [0.  , 1.  ],\n",
              "       [0.25, 0.75],\n",
              "       [0.  , 1.  ],\n",
              "       [1.  , 0.  ],\n",
              "       [0.25, 0.75],\n",
              "       [0.25, 0.75],\n",
              "       [0.  , 1.  ],\n",
              "       [1.  , 0.  ],\n",
              "       [0.  , 1.  ],\n",
              "       [0.25, 0.75],\n",
              "       [0.75, 0.25],\n",
              "       [1.  , 0.  ],\n",
              "       [0.  , 1.  ],\n",
              "       [1.  , 0.  ],\n",
              "       [1.  , 0.  ],\n",
              "       [0.  , 1.  ],\n",
              "       [1.  , 0.  ],\n",
              "       [0.25, 0.75],\n",
              "       [0.  , 1.  ],\n",
              "       [0.25, 0.75],\n",
              "       [0.75, 0.25],\n",
              "       [1.  , 0.  ],\n",
              "       [0.75, 0.25],\n",
              "       [0.75, 0.25],\n",
              "       [0.5 , 0.5 ],\n",
              "       [0.25, 0.75],\n",
              "       [0.25, 0.75],\n",
              "       [0.  , 1.  ],\n",
              "       [0.25, 0.75],\n",
              "       [0.25, 0.75],\n",
              "       [0.25, 0.75],\n",
              "       [0.5 , 0.5 ],\n",
              "       [0.75, 0.25],\n",
              "       [1.  , 0.  ],\n",
              "       [0.75, 0.25],\n",
              "       [1.  , 0.  ],\n",
              "       [0.25, 0.75],\n",
              "       [1.  , 0.  ],\n",
              "       [0.75, 0.25],\n",
              "       [0.  , 1.  ],\n",
              "       [0.75, 0.25],\n",
              "       [1.  , 0.  ],\n",
              "       [0.75, 0.25],\n",
              "       [1.  , 0.  ],\n",
              "       [1.  , 0.  ],\n",
              "       [0.  , 1.  ],\n",
              "       [1.  , 0.  ],\n",
              "       [0.75, 0.25],\n",
              "       [1.  , 0.  ],\n",
              "       [1.  , 0.  ],\n",
              "       [0.25, 0.75],\n",
              "       [1.  , 0.  ],\n",
              "       [0.5 , 0.5 ],\n",
              "       [0.  , 1.  ],\n",
              "       [0.75, 0.25],\n",
              "       [0.75, 0.25],\n",
              "       [0.75, 0.25],\n",
              "       [1.  , 0.  ],\n",
              "       [0.  , 1.  ],\n",
              "       [0.5 , 0.5 ],\n",
              "       [0.75, 0.25],\n",
              "       [0.75, 0.25],\n",
              "       [0.  , 1.  ],\n",
              "       [0.  , 1.  ],\n",
              "       [0.25, 0.75],\n",
              "       [0.  , 1.  ],\n",
              "       [1.  , 0.  ],\n",
              "       [0.25, 0.75],\n",
              "       [0.75, 0.25],\n",
              "       [1.  , 0.  ],\n",
              "       [1.  , 0.  ],\n",
              "       [0.  , 1.  ],\n",
              "       [0.75, 0.25],\n",
              "       [0.25, 0.75],\n",
              "       [1.  , 0.  ],\n",
              "       [1.  , 0.  ],\n",
              "       [0.75, 0.25],\n",
              "       [0.25, 0.75],\n",
              "       [0.75, 0.25],\n",
              "       [1.  , 0.  ],\n",
              "       [0.75, 0.25],\n",
              "       [0.75, 0.25],\n",
              "       [0.  , 1.  ],\n",
              "       [0.75, 0.25],\n",
              "       [0.75, 0.25],\n",
              "       [1.  , 0.  ],\n",
              "       [0.25, 0.75],\n",
              "       [0.  , 1.  ],\n",
              "       [0.5 , 0.5 ],\n",
              "       [0.  , 1.  ],\n",
              "       [0.25, 0.75],\n",
              "       [0.25, 0.75],\n",
              "       [0.75, 0.25],\n",
              "       [0.  , 1.  ],\n",
              "       [1.  , 0.  ],\n",
              "       [1.  , 0.  ],\n",
              "       [0.75, 0.25],\n",
              "       [0.  , 1.  ],\n",
              "       [0.  , 1.  ],\n",
              "       [0.  , 1.  ],\n",
              "       [0.75, 0.25],\n",
              "       [0.  , 1.  ],\n",
              "       [0.5 , 0.5 ],\n",
              "       [0.25, 0.75],\n",
              "       [1.  , 0.  ],\n",
              "       [0.  , 1.  ],\n",
              "       [0.75, 0.25],\n",
              "       [0.5 , 0.5 ],\n",
              "       [0.  , 1.  ],\n",
              "       [1.  , 0.  ],\n",
              "       [0.75, 0.25],\n",
              "       [0.5 , 0.5 ],\n",
              "       [0.75, 0.25],\n",
              "       [0.  , 1.  ],\n",
              "       [0.5 , 0.5 ],\n",
              "       [0.5 , 0.5 ],\n",
              "       [0.  , 1.  ],\n",
              "       [1.  , 0.  ],\n",
              "       [1.  , 0.  ],\n",
              "       [0.  , 1.  ],\n",
              "       [0.  , 1.  ],\n",
              "       [0.  , 1.  ],\n",
              "       [0.25, 0.75],\n",
              "       [0.75, 0.25],\n",
              "       [0.  , 1.  ],\n",
              "       [0.5 , 0.5 ],\n",
              "       [0.  , 1.  ],\n",
              "       [0.  , 1.  ],\n",
              "       [0.  , 1.  ],\n",
              "       [0.25, 0.75],\n",
              "       [0.75, 0.25],\n",
              "       [0.5 , 0.5 ],\n",
              "       [0.25, 0.75],\n",
              "       [0.5 , 0.5 ],\n",
              "       [1.  , 0.  ],\n",
              "       [0.75, 0.25],\n",
              "       [0.  , 1.  ],\n",
              "       [0.  , 1.  ],\n",
              "       [0.5 , 0.5 ],\n",
              "       [0.25, 0.75],\n",
              "       [0.75, 0.25],\n",
              "       [1.  , 0.  ],\n",
              "       [0.5 , 0.5 ],\n",
              "       [0.25, 0.75],\n",
              "       [0.75, 0.25],\n",
              "       [1.  , 0.  ],\n",
              "       [1.  , 0.  ],\n",
              "       [0.75, 0.25],\n",
              "       [1.  , 0.  ],\n",
              "       [0.75, 0.25],\n",
              "       [0.  , 1.  ],\n",
              "       [0.  , 1.  ],\n",
              "       [1.  , 0.  ],\n",
              "       [0.  , 1.  ],\n",
              "       [1.  , 0.  ],\n",
              "       [1.  , 0.  ],\n",
              "       [0.  , 1.  ],\n",
              "       [0.25, 0.75],\n",
              "       [1.  , 0.  ],\n",
              "       [0.  , 1.  ],\n",
              "       [0.5 , 0.5 ],\n",
              "       [0.5 , 0.5 ],\n",
              "       [0.75, 0.25],\n",
              "       [0.  , 1.  ],\n",
              "       [0.  , 1.  ],\n",
              "       [0.5 , 0.5 ],\n",
              "       [1.  , 0.  ],\n",
              "       [1.  , 0.  ],\n",
              "       [0.  , 1.  ],\n",
              "       [0.  , 1.  ],\n",
              "       [0.  , 1.  ],\n",
              "       [0.75, 0.25],\n",
              "       [0.  , 1.  ],\n",
              "       [0.  , 1.  ],\n",
              "       [1.  , 0.  ],\n",
              "       [0.75, 0.25],\n",
              "       [1.  , 0.  ],\n",
              "       [1.  , 0.  ],\n",
              "       [0.75, 0.25],\n",
              "       [1.  , 0.  ],\n",
              "       [0.  , 1.  ],\n",
              "       [0.25, 0.75],\n",
              "       [0.75, 0.25],\n",
              "       [0.75, 0.25],\n",
              "       [0.25, 0.75],\n",
              "       [1.  , 0.  ],\n",
              "       [0.75, 0.25],\n",
              "       [0.  , 1.  ],\n",
              "       [0.75, 0.25],\n",
              "       [0.25, 0.75],\n",
              "       [1.  , 0.  ],\n",
              "       [0.  , 1.  ],\n",
              "       [0.25, 0.75],\n",
              "       [1.  , 0.  ],\n",
              "       [0.5 , 0.5 ],\n",
              "       [0.75, 0.25],\n",
              "       [0.5 , 0.5 ],\n",
              "       [1.  , 0.  ],\n",
              "       [1.  , 0.  ],\n",
              "       [1.  , 0.  ],\n",
              "       [1.  , 0.  ],\n",
              "       [0.75, 0.25],\n",
              "       [1.  , 0.  ],\n",
              "       [1.  , 0.  ],\n",
              "       [0.  , 1.  ],\n",
              "       [0.75, 0.25],\n",
              "       [0.  , 1.  ],\n",
              "       [0.  , 1.  ],\n",
              "       [1.  , 0.  ],\n",
              "       [0.  , 1.  ],\n",
              "       [0.  , 1.  ],\n",
              "       [1.  , 0.  ],\n",
              "       [0.75, 0.25],\n",
              "       [0.75, 0.25],\n",
              "       [0.5 , 0.5 ],\n",
              "       [0.25, 0.75],\n",
              "       [1.  , 0.  ],\n",
              "       [0.5 , 0.5 ],\n",
              "       [1.  , 0.  ],\n",
              "       [1.  , 0.  ],\n",
              "       [0.25, 0.75],\n",
              "       [1.  , 0.  ],\n",
              "       [0.  , 1.  ],\n",
              "       [0.  , 1.  ],\n",
              "       [0.75, 0.25],\n",
              "       [0.5 , 0.5 ],\n",
              "       [0.  , 1.  ],\n",
              "       [1.  , 0.  ],\n",
              "       [1.  , 0.  ],\n",
              "       [0.25, 0.75],\n",
              "       [0.25, 0.75],\n",
              "       [1.  , 0.  ],\n",
              "       [0.25, 0.75],\n",
              "       [0.25, 0.75],\n",
              "       [0.75, 0.25],\n",
              "       [0.25, 0.75],\n",
              "       [1.  , 0.  ],\n",
              "       [0.75, 0.25],\n",
              "       [0.  , 1.  ],\n",
              "       [0.  , 1.  ],\n",
              "       [0.5 , 0.5 ],\n",
              "       [0.5 , 0.5 ],\n",
              "       [0.75, 0.25],\n",
              "       [1.  , 0.  ],\n",
              "       [0.  , 1.  ],\n",
              "       [0.  , 1.  ],\n",
              "       [0.  , 1.  ],\n",
              "       [0.75, 0.25]])"
            ]
          },
          "metadata": {},
          "execution_count": 15
        }
      ]
    },
    {
      "cell_type": "markdown",
      "source": [
        "**Build AUC/ROC**"
      ],
      "metadata": {
        "id": "P3TCI9Eja8Yc"
      }
    },
    {
      "cell_type": "code",
      "source": [
        "# roc curve for models\n",
        "fpr1, tpr1, thresh1 = roc_curve(y_test, pred_prob1[:,1], pos_label=1)\n",
        "fpr2, tpr2, thresh2 = roc_curve(y_test, pred_prob2[:,1], pos_label=1)\n",
        "\n",
        "# roc curve for tpr = fpr\n",
        "random_probs = [0 for i in range(len(y_test))]\n",
        "p_fpr, p_tpr, _ = roc_curve(y_test, random_probs, pos_label=1)"
      ],
      "metadata": {
        "id": "9s0cajoraH3N"
      },
      "execution_count": 18,
      "outputs": []
    },
    {
      "cell_type": "code",
      "source": [
        "thresh1"
      ],
      "metadata": {
        "colab": {
          "base_uri": "https://localhost:8080/"
        },
        "id": "5GWyfCIibl0U",
        "outputId": "ffd1e660-7de9-4db3-d99b-a732cfb18c8d"
      },
      "execution_count": 21,
      "outputs": [
        {
          "output_type": "execute_result",
          "data": {
            "text/plain": [
              "array([1.99999986e+00, 9.99999863e-01, 8.65588756e-01, 8.62105823e-01,\n",
              "       8.23200101e-01, 8.11359173e-01, 7.90116277e-01, 7.48529287e-01,\n",
              "       5.75044603e-01, 4.05627935e-01, 3.50010204e-01, 3.29661037e-01,\n",
              "       2.77482187e-01, 1.85400755e-01, 1.82305000e-01, 1.12056714e-01,\n",
              "       1.11541620e-01, 5.61451628e-02, 5.57220417e-02, 4.40304674e-02,\n",
              "       4.11373367e-02, 3.96282991e-02, 3.64496331e-02, 5.08657454e-03,\n",
              "       4.66783543e-03, 3.18483553e-05])"
            ]
          },
          "metadata": {},
          "execution_count": 21
        }
      ]
    },
    {
      "cell_type": "code",
      "source": [
        "thresh2"
      ],
      "metadata": {
        "colab": {
          "base_uri": "https://localhost:8080/"
        },
        "id": "YpOwY6inbvdM",
        "outputId": "2ac30373-6d8c-462f-946e-a00662500c5f"
      },
      "execution_count": 22,
      "outputs": [
        {
          "output_type": "execute_result",
          "data": {
            "text/plain": [
              "array([2.  , 1.  , 0.75, 0.5 , 0.25, 0.  ])"
            ]
          },
          "metadata": {},
          "execution_count": 22
        }
      ]
    },
    {
      "cell_type": "markdown",
      "source": [
        "**Get AUC FOR KNN And Logistic Regression**"
      ],
      "metadata": {
        "id": "p2BwZCXOcvaD"
      }
    },
    {
      "cell_type": "code",
      "source": [
        "from sklearn.metrics import roc_auc_score\n",
        "\n",
        "# auc scores\n",
        "auc_score1 = roc_auc_score(y_test, pred_prob1[:,1])\n",
        "auc_score2 = roc_auc_score(y_test, pred_prob2[:,1])\n",
        "\n",
        "print(auc_score1, auc_score2)"
      ],
      "metadata": {
        "colab": {
          "base_uri": "https://localhost:8080/"
        },
        "id": "27bixQ01a5Gj",
        "outputId": "9423c769-6355-4275-d4eb-315ee00f9669"
      },
      "execution_count": 23,
      "outputs": [
        {
          "output_type": "stream",
          "name": "stdout",
          "text": [
            "0.9762374461979914 0.9233769727403157\n"
          ]
        }
      ]
    },
    {
      "cell_type": "markdown",
      "source": [
        "**Blot Roc For Two MOdel**"
      ],
      "metadata": {
        "id": "oGSYnLxDc9Fi"
      }
    },
    {
      "cell_type": "code",
      "source": [
        "# matplotlib\n",
        "import matplotlib.pyplot as plt\n",
        "plt.style.use('seaborn')\n",
        "\n",
        "# plot roc curves\n",
        "plt.plot(fpr1, tpr1, linestyle='--',color='orange', label='Logistic Regression')\n",
        "plt.plot(fpr2, tpr2, linestyle='--',color='green', label='KNN')\n",
        "plt.plot(p_fpr, p_tpr, linestyle='--', color='blue')\n",
        "# title\n",
        "plt.title('ROC curve')\n",
        "# x label\n",
        "plt.xlabel('False Positive Rate')\n",
        "# y label\n",
        "plt.ylabel('True Positive rate')\n",
        "\n",
        "plt.legend(loc='best')\n",
        "plt.savefig('ROC',dpi=300)\n",
        "plt.show();"
      ],
      "metadata": {
        "colab": {
          "base_uri": "https://localhost:8080/",
          "height": 579
        },
        "id": "tBXveVU9bI8C",
        "outputId": "21b018a7-1c4e-4853-ecf7-0e6e3ab93935"
      },
      "execution_count": 24,
      "outputs": [
        {
          "output_type": "stream",
          "name": "stderr",
          "text": [
            "<ipython-input-24-3bd2c42a5469>:3: MatplotlibDeprecationWarning: The seaborn styles shipped by Matplotlib are deprecated since 3.6, as they no longer correspond to the styles shipped by seaborn. However, they will remain available as 'seaborn-v0_8-<style>'. Alternatively, directly use the seaborn API instead.\n",
            "  plt.style.use('seaborn')\n"
          ]
        },
        {
          "output_type": "display_data",
          "data": {
            "text/plain": [
              "<Figure size 800x550 with 1 Axes>"
            ],
            "image/png": "[encoded data removed]"
          },
          "metadata": {}
        }
      ]
    },
    {
      "cell_type": "markdown",
      "source": [
        "\n",
        "**Result :**\n",
        "\n",
        "It is evident from the plot that the AUC for the Logistic Regression ROC curve is higher than that for the KNN ROC curve. Therefore, we can say that logistic regression did a better job of classifying the positive class in the dataset."
      ],
      "metadata": {
        "id": "W10G4pakcQvD"
      }
    }
  ]
}