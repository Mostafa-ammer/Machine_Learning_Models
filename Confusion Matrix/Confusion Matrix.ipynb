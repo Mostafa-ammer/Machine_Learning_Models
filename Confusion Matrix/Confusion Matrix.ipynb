{
  "nbformat": 4,
  "nbformat_minor": 0,
  "metadata": {
    "colab": {
      "provenance": []
    },
    "kernelspec": {
      "name": "python3",
      "display_name": "Python 3"
    },
    "language_info": {
      "name": "python"
    }
  },
  "cells": [
    {
      "cell_type": "code",
      "execution_count": 1,
      "metadata": {
        "colab": {
          "base_uri": "https://localhost:8080/"
        },
        "id": "1P-Rx_So26QR",
        "outputId": "8f3d1269-6604-4dbf-a207-01c841deaa2c"
      },
      "outputs": [
        {
          "output_type": "stream",
          "name": "stdout",
          "text": [
            "Confusion matrix : \n",
            " [[2 2]\n",
            " [1 5]]\n",
            "Outcome values : \n",
            " 2 2 1 5\n",
            "Classification report : \n",
            "               precision    recall  f1-score   support\n",
            "\n",
            "           1       0.67      0.50      0.57         4\n",
            "           0       0.71      0.83      0.77         6\n",
            "\n",
            "    accuracy                           0.70        10\n",
            "   macro avg       0.69      0.67      0.67        10\n",
            "weighted avg       0.70      0.70      0.69        10\n",
            "\n"
          ]
        }
      ],
      "source": [
        "# confusion matrix in sklearn\n",
        "from sklearn.metrics import confusion_matrix\n",
        "from sklearn.metrics import classification_report\n",
        "\n",
        "# actual values\n",
        "actual = [1,0,0,1,0,0,1,0,0,1]\n",
        "# predicted values\n",
        "predicted = [1,0,0,1,0,0,0,1,0,0]\n",
        "\n",
        "# confusion matrix\n",
        "matrix = confusion_matrix(actual,predicted, labels=[1,0])\n",
        "print('Confusion matrix : \\n',matrix)\n",
        "\n",
        "# outcome values order in sklearn\n",
        "tp, fn, fp, tn = confusion_matrix(actual,predicted,labels=[1,0]).reshape(-1)\n",
        "print('Outcome values : \\n', tp, fn, fp, tn)\n",
        "\n",
        "# classification report for precision, recall f1-score and accuracy\n",
        "matrix = classification_report(actual,predicted,labels=[1,0])\n",
        "print('Classification report : \\n',matrix)"
      ]
    }
  ]
}