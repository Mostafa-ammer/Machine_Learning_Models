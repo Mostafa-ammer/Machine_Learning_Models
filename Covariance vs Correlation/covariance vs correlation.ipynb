{
  "nbformat": 4,
  "nbformat_minor": 0,
  "metadata": {
    "colab": {
      "provenance": []
    },
    "kernelspec": {
      "name": "python3",
      "display_name": "Python 3"
    },
    "language_info": {
      "name": "python"
    }
  },
  "cells": [
    {
      "cell_type": "code",
      "execution_count": 5,
      "metadata": {
        "colab": {
          "base_uri": "https://localhost:8080/",
          "height": 437
        },
        "id": "xYPyfatUMpIB",
        "outputId": "38d389a9-6c53-4e1f-8650-6d5ab4f51e62"
      },
      "outputs": [
        {
          "output_type": "display_data",
          "data": {
            "text/plain": [
              "<Figure size 1000x400 with 2 Axes>"
            ],
            "image/png": "[encoded data removed]"
          },
          "metadata": {}
        },
        {
          "output_type": "stream",
          "name": "stdout",
          "text": [
            "Covariance between X and Y: 0.13\n",
            "Correlation between X and Y: 0.45\n"
          ]
        }
      ],
      "source": [
        "import numpy as np\n",
        "import pandas as pd\n",
        "import matplotlib.pyplot as plt\n",
        "# Generate two sets of sample data\n",
        "np.random.seed(0)\n",
        "X = np.random.rand(50)  # Sample data for X\n",
        "Y = 2 * X + 1 + np.random.randn(50)  # Sample data for Y (linear relationship with X)\n",
        "\n",
        "# Calculate covariance\n",
        "covariance = np.cov(X, Y)[0, 1]\n",
        "\n",
        "# Calculate correlation\n",
        "correlation = np.corrcoef(X, Y)[0, 1]\n",
        "\n",
        "# Create scatter plot\n",
        "plt.figure(figsize=(10, 4))\n",
        "plt.subplot(1, 2, 1)\n",
        "plt.scatter(X, Y)\n",
        "plt.title(f'Scatter Plot (Covariance = {covariance:.2f})')\n",
        "\n",
        "plt.subplot(1, 2, 2)\n",
        "plt.scatter(X, Y)\n",
        "plt.title(f'Scatter Plot (Correlation = {correlation:.2f})')\n",
        "\n",
        "plt.tight_layout()\n",
        "plt.show()\n",
        "\n",
        "print(f'Covariance between X and Y: {covariance:.2f}')\n",
        "print(f'Correlation between X and Y: {correlation:.2f}')\n"
      ]
    },
    {
      "cell_type": "markdown",
      "source": [
        "- the covariance indicate the the relation between two variable is positive (only give the direction)\n",
        "\n",
        "- Correlation indicates that the relation between two variables is weak positive and the direaction is positive direction (determine the direction and strength of relation)\n"
      ],
      "metadata": {
        "id": "isP4PSA_Ql6f"
      }
    },
    {
      "cell_type": "markdown",
      "source": [
        "Let's use an example to understand the relationship between two variables: \"Hours of Study\" and \"Exam Scores.\" We'll generate some example data and then calculate the correlation to determine the nature and strength of the relationship between these two variables."
      ],
      "metadata": {
        "id": "YCpUcZeQRfCo"
      }
    },
    {
      "cell_type": "code",
      "source": [
        "# Generate example data\n",
        "np.random.seed(0)\n",
        "hours_of_study = np.random.randint(1, 10, 50)  # Hours of study (1 to 9 hours)\n",
        "exam_scores = 50 + 10 * hours_of_study + np.random.normal(0, 5, 50)  # Exam scores with some noise\n",
        "\n",
        "# Create a DataFrame\n",
        "data = pd.DataFrame({'Hours of Study': hours_of_study, 'Exam Scores': exam_scores})\n",
        "\n",
        "# Calculate correlation\n",
        "correlation = data['Hours of Study'].corr(data['Exam Scores'])\n",
        "\n",
        "print(f\"Correlation between Hours of Study and Exam Scores: {correlation:.2f}\")\n"
      ],
      "metadata": {
        "colab": {
          "base_uri": "https://localhost:8080/"
        },
        "id": "UqCKghCWNDB8",
        "outputId": "fde5b0c4-41bd-4224-d979-85b484ff4ec7"
      },
      "execution_count": 3,
      "outputs": [
        {
          "output_type": "stream",
          "name": "stdout",
          "text": [
            "Correlation between Hours of Study and Exam Scores: 0.99\n"
          ]
        }
      ]
    },
    {
      "cell_type": "markdown",
      "source": [
        "- the correlation in this examble indicates that the correlation between two variables is strong positive relationship\n"
      ],
      "metadata": {
        "id": "eY9G7eE0RKcK"
      }
    },
    {
      "cell_type": "markdown",
      "source": [
        "calculate also the covariance between two variable"
      ],
      "metadata": {
        "id": "HoUMiKkBRpix"
      }
    },
    {
      "cell_type": "code",
      "source": [
        "# Generate example data\n",
        "np.random.seed(0)\n",
        "hours_of_study = np.random.randint(1, 10, 50)  # Hours of study (1 to 9 hours)\n",
        "exam_scores = 50 + 10 * hours_of_study + np.random.normal(0, 5, 50)  # Exam scores with some noise\n",
        "\n",
        "# Create a DataFrame\n",
        "data = pd.DataFrame({'Hours of Study': hours_of_study, 'Exam Scores': exam_scores})\n",
        "\n",
        "# Calculate correlation\n",
        "correlation = data['Hours of Study'].cov(data['Exam Scores'])\n",
        "\n",
        "print(f\"Correlation between Hours of Study and Exam Scores: {correlation:.2f}\")"
      ],
      "metadata": {
        "colab": {
          "base_uri": "https://localhost:8080/"
        },
        "id": "AoKvqc18NMxL",
        "outputId": "1fa73bdb-20fc-4096-e447-922b81bb7e55"
      },
      "execution_count": 4,
      "outputs": [
        {
          "output_type": "stream",
          "name": "stdout",
          "text": [
            "Correlation between Hours of Study and Exam Scores: 71.06\n"
          ]
        }
      ]
    },
    {
      "cell_type": "markdown",
      "source": [
        "- we indicate that the relation betwwen two variables is positive correlation"
      ],
      "metadata": {
        "id": "L36XmbZCRwL5"
      }
    }
  ]
}