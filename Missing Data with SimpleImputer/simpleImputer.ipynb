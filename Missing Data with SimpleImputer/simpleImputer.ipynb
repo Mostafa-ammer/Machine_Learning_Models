{
  "nbformat": 4,
  "nbformat_minor": 0,
  "metadata": {
    "colab": {
      "provenance": []
    },
    "kernelspec": {
      "name": "python3",
      "display_name": "Python 3"
    },
    "language_info": {
      "name": "python"
    }
  },
  "cells": [
    {
      "cell_type": "markdown",
      "source": [
        "# Handling Missing Data with SimpleImputer"
      ],
      "metadata": {
        "id": "VOvROmpd0hgG"
      }
    },
    {
      "cell_type": "markdown",
      "source": [
        "**Import Required Libraries**"
      ],
      "metadata": {
        "id": "_OX60XwT0tyA"
      }
    },
    {
      "cell_type": "code",
      "execution_count": 2,
      "metadata": {
        "id": "1SXG8W1d0gJm"
      },
      "outputs": [],
      "source": [
        "# import numpy\n",
        "import numpy as np\n",
        "# importing sklearn\n",
        "import sklearn\n",
        "# importing simpleimputer\n",
        "from sklearn.impute import SimpleImputer"
      ]
    },
    {
      "cell_type": "markdown",
      "source": [
        "**Performing “Mean” Imputation**"
      ],
      "metadata": {
        "id": "FOX6uGKK04wX"
      }
    },
    {
      "cell_type": "code",
      "source": [
        "imp_mean = SimpleImputer(missing_values=np.nan, strategy='mean')\n",
        "imp_mean.fit([[7, 2, 3], [4, np.nan, 6], [10, 5, 9]])\n",
        "age = [[np.nan, 2, 3], [4, np.nan, 6], [10, np.nan, 9]]\n",
        "print(imp_mean.transform(age))"
      ],
      "metadata": {
        "colab": {
          "base_uri": "https://localhost:8080/"
        },
        "id": "2yWzLpnC02NP",
        "outputId": "e9da4bfe-de3e-4b1b-ad69-023d6bb4c4f2"
      },
      "execution_count": 3,
      "outputs": [
        {
          "output_type": "stream",
          "name": "stdout",
          "text": [
            "[[ 7.   2.   3. ]\n",
            " [ 4.   3.5  6. ]\n",
            " [10.   3.5  9. ]]\n"
          ]
        }
      ]
    },
    {
      "cell_type": "markdown",
      "source": [
        "**Performing “Median” Imputation**\n"
      ],
      "metadata": {
        "id": "Q4jR7HJV6bU-"
      }
    },
    {
      "cell_type": "code",
      "source": [
        "imp_median = SimpleImputer(missing_values=np.nan, strategy='median')\n",
        "imp_median.fit([[7, 2, 3], [4, np.nan, 6], [10, 5, 9]])\n",
        "age = [[np.nan, 2, 3], [4, np.nan, 6], [10, np.nan, 9]]\n",
        "print(imp_median.transform(age))"
      ],
      "metadata": {
        "colab": {
          "base_uri": "https://localhost:8080/"
        },
        "id": "qx2LBx272WNO",
        "outputId": "c5efee40-5a36-40d6-b7bd-490c44b565f3"
      },
      "execution_count": 7,
      "outputs": [
        {
          "output_type": "stream",
          "name": "stdout",
          "text": [
            "[[ 7.   2.   3. ]\n",
            " [ 4.   3.5  6. ]\n",
            " [10.   3.5  9. ]]\n"
          ]
        }
      ]
    },
    {
      "cell_type": "markdown",
      "source": [
        "**Performing “Most_frequent” Imputation**\n"
      ],
      "metadata": {
        "id": "UjJYCZhv6z9-"
      }
    },
    {
      "cell_type": "code",
      "source": [
        "imp_mf = SimpleImputer(missing_values=np.nan, strategy='most_frequent')\n",
        "\n",
        "imp_mf.fit([[\"one\", 'two', 'three'], ['four', np.nan, 'six'], ['one', 'two', 'two']])\n",
        "\n",
        "category = [[np.nan, 'two', 'two'], ['four', np.nan, 'six'], ['ten', np.nan, 'nine']]\n",
        "\n",
        "print(imp_mf.transform(category))"
      ],
      "metadata": {
        "colab": {
          "base_uri": "https://localhost:8080/"
        },
        "id": "E0q6r4PN6ia3",
        "outputId": "bf15ef35-5d92-4934-9e32-8a1b015802e7"
      },
      "execution_count": 18,
      "outputs": [
        {
          "output_type": "stream",
          "name": "stdout",
          "text": [
            "[['one' 'two' 'two']\n",
            " ['four' 'two' 'six']\n",
            " ['ten' 'two' 'nine']]\n"
          ]
        }
      ]
    },
    {
      "cell_type": "markdown",
      "source": [
        "**Performing “Constant” Imputation**\n"
      ],
      "metadata": {
        "id": "Bt50QCB29cqe"
      }
    },
    {
      "cell_type": "code",
      "source": [
        "imp_constant = SimpleImputer(missing_values=np.nan, strategy='constant',fill_value=20)\n",
        "imp_constant.fit([[7, 2, 3], [4, np.nan, 6], [10, 5, 9]])\n",
        "age = [[np.nan, 2, 3], [4, np.nan, 6], [10, np.nan, 9]]\n",
        "print(imp_constant.transform(age))"
      ],
      "metadata": {
        "colab": {
          "base_uri": "https://localhost:8080/"
        },
        "id": "Is81177K63iM",
        "outputId": "8d02ef89-bafb-4c8a-c273-fa178ce22287"
      },
      "execution_count": 17,
      "outputs": [
        {
          "output_type": "stream",
          "name": "stdout",
          "text": [
            "[[20.  2.  3.]\n",
            " [ 4. 20.  6.]\n",
            " [10. 20.  9.]]\n"
          ]
        }
      ]
    }
  ]
}