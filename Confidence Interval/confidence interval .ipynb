{
  "nbformat": 4,
  "nbformat_minor": 0,
  "metadata": {
    "colab": {
      "provenance": []
    },
    "kernelspec": {
      "name": "python3",
      "display_name": "Python 3"
    },
    "language_info": {
      "name": "python"
    }
  },
  "cells": [
    {
      "cell_type": "markdown",
      "source": [
        "# Import Libraries"
      ],
      "metadata": {
        "id": "PyI7kyX4hB55"
      }
    },
    {
      "cell_type": "code",
      "execution_count": 2,
      "metadata": {
        "id": "6upaElSAgrqg"
      },
      "outputs": [],
      "source": [
        "import numpy as np\n",
        "from scipy import stats"
      ]
    },
    {
      "cell_type": "markdown",
      "source": [
        "# Sample Data"
      ],
      "metadata": {
        "id": "y_Z5EfCRhG6i"
      }
    },
    {
      "cell_type": "code",
      "source": [
        "# Sample data (replace with your dataset)\n",
        "data = [45, 42, 48, 39, 50, 43, 47, 41, 44, 46]"
      ],
      "metadata": {
        "id": "yUEqrZJRgxnL"
      },
      "execution_count": 3,
      "outputs": []
    },
    {
      "cell_type": "markdown",
      "source": [
        "# Confidence Interval"
      ],
      "metadata": {
        "id": "2HNMug8yhNNC"
      }
    },
    {
      "cell_type": "code",
      "source": [
        "# Confidence level (e.g., 95%)\n",
        "confidence_level = 0.95"
      ],
      "metadata": {
        "id": "slUA1SKog73A"
      },
      "execution_count": 4,
      "outputs": []
    },
    {
      "cell_type": "markdown",
      "source": [
        "# Calculate standard error"
      ],
      "metadata": {
        "id": "_fB1CXcKhc0y"
      }
    },
    {
      "cell_type": "code",
      "source": [
        "# Calculate the sample mean and standard error\n",
        "sample_mean = np.mean(data)\n",
        "sample_std = np.std(data, ddof=1)  # ddof=1 for sample standard deviation\n",
        "sample_size = len(data)\n",
        "standard_error = sample_std / np.sqrt(sample_size)"
      ],
      "metadata": {
        "id": "JxtHGt7mg0pT"
      },
      "execution_count": 5,
      "outputs": []
    },
    {
      "cell_type": "markdown",
      "source": [
        "# Calculate Margin of Error"
      ],
      "metadata": {
        "id": "RtxAgf2GhibL"
      }
    },
    {
      "cell_type": "code",
      "source": [
        "# Calculate the margin of error\n",
        "z_score = stats.norm.ppf((1 + confidence_level) / 2)  # Z-score for a two-tailed test\n",
        "margin_of_error = z_score * standard_error"
      ],
      "metadata": {
        "id": "NUBOgNFlg0sD"
      },
      "execution_count": 6,
      "outputs": []
    },
    {
      "cell_type": "markdown",
      "source": [
        "# Calculate Interval"
      ],
      "metadata": {
        "id": "UNvuilh5hsVR"
      }
    },
    {
      "cell_type": "code",
      "source": [
        "# Calculate the confidence interval\n",
        "lower_bound = sample_mean - margin_of_error\n",
        "upper_bound = sample_mean + margin_of_error"
      ],
      "metadata": {
        "id": "3SEO9nrXg0t6"
      },
      "execution_count": 7,
      "outputs": []
    },
    {
      "cell_type": "code",
      "source": [
        "print(\"Sample Mean:\", sample_mean)\n",
        "print(\"Margin of Error:\", margin_of_error)\n",
        "print(f\"Confidence Interval ({int(confidence_level * 100)}%): ({lower_bound}, {upper_bound})\")\n"
      ],
      "metadata": {
        "colab": {
          "base_uri": "https://localhost:8080/"
        },
        "id": "2Pnecjnlg5x5",
        "outputId": "13e1fb6f-99e1-4748-8bdc-994efd02b763"
      },
      "execution_count": 8,
      "outputs": [
        {
          "output_type": "stream",
          "name": "stdout",
          "text": [
            "Sample Mean: 44.5\n",
            "Margin of Error: 2.0916488156506463\n",
            "Confidence Interval (95%): (42.40835118434936, 46.59164881565064)\n"
          ]
        }
      ]
    }
  ]
}